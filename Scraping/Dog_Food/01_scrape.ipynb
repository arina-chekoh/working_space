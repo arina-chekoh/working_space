{
 "cells": [
  {
   "cell_type": "markdown",
   "id": "aedf7639-e231-49ef-89ea-40301f2ccc69",
   "metadata": {
    "tags": []
   },
   "source": [
    "### Upload data to DataPlatform"
   ]
  },
  {
   "cell_type": "code",
   "execution_count": 1,
   "id": "c584c800-a5af-494a-8d9b-7d0a594a4a44",
   "metadata": {},
   "outputs": [],
   "source": [
    "from dsmlibrary.datanode import DataNode"
   ]
  },
  {
   "cell_type": "code",
   "execution_count": 2,
   "id": "4295260f-4a5a-4eaf-a965-a71e4b5d0f40",
   "metadata": {},
   "outputs": [],
   "source": [
    "dir_raw_id = 76"
   ]
  },
  {
   "cell_type": "code",
   "execution_count": 3,
   "id": "36db85fd-69e2-4a93-962e-f9397ecee302",
   "metadata": {},
   "outputs": [
    {
     "name": "stdout",
     "output_type": "stream",
     "text": [
      "Init DataNode sucessful!\n"
     ]
    }
   ],
   "source": [
    "datanode = DataNode()"
   ]
  },
  {
   "cell_type": "code",
   "execution_count": 4,
   "id": "39b7d551-c632-47af-9b3d-5501f6bfa3de",
   "metadata": {},
   "outputs": [
    {
     "data": {
      "application/vnd.jupyter.widget-view+json": {
       "model_id": "91f4c7c07026428cb6e50c437bc37393",
       "version_major": 2,
       "version_minor": 0
      },
      "text/plain": [
       "  0%|          | 0.00/177k [00:00<?, ?B/s]"
      ]
     },
     "metadata": {},
     "output_type": "display_data"
    },
    {
     "data": {
      "text/plain": [
       "{'id': 42,\n",
       " 'msg': 'file results.csv create sucessful',\n",
       " 'path': 'arina/DSI310-13/RawData/results.csv',\n",
       " 'uploaded': True}"
      ]
     },
     "execution_count": 4,
     "metadata": {},
     "output_type": "execute_result"
    }
   ],
   "source": [
    "datanode.upload_file(directory_id=dir_raw_id, file_path='results.csv')"
   ]
  },
  {
   "cell_type": "code",
   "execution_count": null,
   "id": "2d518ada-9b36-499c-96ca-b113aa6de1a0",
   "metadata": {},
   "outputs": [],
   "source": []
  }
 ],
 "metadata": {
  "kernelspec": {
   "display_name": "Python 3 (ipykernel)",
   "language": "python",
   "name": "python3"
  },
  "language_info": {
   "codemirror_mode": {
    "name": "ipython",
    "version": 3
   },
   "file_extension": ".py",
   "mimetype": "text/x-python",
   "name": "python",
   "nbconvert_exporter": "python",
   "pygments_lexer": "ipython3",
   "version": "3.10.5"
  }
 },
 "nbformat": 4,
 "nbformat_minor": 5
}
