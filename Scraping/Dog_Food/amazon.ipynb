{
 "cells": [
  {
   "cell_type": "code",
   "execution_count": 1,
   "id": "8178c0fb",
   "metadata": {},
   "outputs": [],
   "source": [
    "import csv\n",
    "from bs4 import BeautifulSoup"
   ]
  },
  {
   "cell_type": "code",
   "execution_count": 2,
   "id": "62658dca",
   "metadata": {},
   "outputs": [],
   "source": [
    "from selenium import webdriver\n",
    "from webdriver_manager.chrome import ChromeDriverManager"
   ]
  },
  {
   "cell_type": "code",
   "execution_count": 3,
   "id": "aae77843",
   "metadata": {
    "scrolled": true
   },
   "outputs": [],
   "source": [
    "driver = webdriver.Chrome(ChromeDriverManager().install())"
   ]
  },
  {
   "cell_type": "code",
   "execution_count": 4,
   "id": "b1263d1d",
   "metadata": {},
   "outputs": [],
   "source": [
    "url = 'https://www.amazon.com'\n",
    "driver.get(url)"
   ]
  },
  {
   "cell_type": "code",
   "execution_count": 5,
   "id": "89f9a89c",
   "metadata": {},
   "outputs": [],
   "source": [
    "def get_url(search_term):\n",
    "    template = 'https://www.amazon.com/s?i=pets-intl-ship&bbn=16225013011&rh=n%3A2975312011%2Cn%3A2975359011&dc&ds=v1%3ASxyY%2BRu8LEGJNuVH1uyz6ZIkIB6YBwbExS599BB82OA&qid=1666671521&rnid=2975312011&ref=sr_nr_n_1'\n",
    "    search_term = search_term.replace('', '+')\n",
    "    return template.format(search_term)"
   ]
  },
  {
   "cell_type": "code",
   "execution_count": 6,
   "id": "179d1179",
   "metadata": {},
   "outputs": [
    {
     "name": "stdout",
     "output_type": "stream",
     "text": [
      "https://www.amazon.com/s?i=pets-intl-ship&bbn=16225013011&rh=n%3A2975312011%2Cn%3A2975359011&dc&ds=v1%3ASxyY%2BRu8LEGJNuVH1uyz6ZIkIB6YBwbExS599BB82OA&qid=1666671521&rnid=2975312011&ref=sr_nr_n_1\n"
     ]
    }
   ],
   "source": [
    "url = get_url('ultrawide monitor')\n",
    "print(url)"
   ]
  },
  {
   "cell_type": "code",
   "execution_count": 7,
   "id": "1d99ab5f",
   "metadata": {},
   "outputs": [],
   "source": [
    "driver.get(url)"
   ]
  },
  {
   "cell_type": "markdown",
   "id": "2c48c961",
   "metadata": {},
   "source": [
    "# Extract the collection ##"
   ]
  },
  {
   "cell_type": "code",
   "execution_count": 8,
   "id": "9c026fa7",
   "metadata": {},
   "outputs": [],
   "source": [
    "soup = BeautifulSoup(driver.page_source, 'html.parser')"
   ]
  },
  {
   "cell_type": "code",
   "execution_count": 9,
   "id": "00f1a93f",
   "metadata": {},
   "outputs": [],
   "source": [
    "results = soup.find_all('div', {'data-component-type' : 's-search-result'})"
   ]
  },
  {
   "cell_type": "code",
   "execution_count": 10,
   "id": "20414249",
   "metadata": {},
   "outputs": [
    {
     "data": {
      "text/plain": [
       "26"
      ]
     },
     "execution_count": 10,
     "metadata": {},
     "output_type": "execute_result"
    }
   ],
   "source": [
    "len(results)"
   ]
  },
  {
   "cell_type": "markdown",
   "id": "03891dfa",
   "metadata": {},
   "source": [
    "## prototype the record ##"
   ]
  },
  {
   "cell_type": "code",
   "execution_count": 11,
   "id": "12da4966",
   "metadata": {},
   "outputs": [],
   "source": [
    "item = results[0]"
   ]
  },
  {
   "cell_type": "code",
   "execution_count": 12,
   "id": "05261c3f",
   "metadata": {},
   "outputs": [],
   "source": [
    "atag = item.h2.a"
   ]
  },
  {
   "cell_type": "code",
   "execution_count": 13,
   "id": "d4e7904d",
   "metadata": {},
   "outputs": [],
   "source": [
    "description = atag.text.strip()"
   ]
  },
  {
   "cell_type": "code",
   "execution_count": 14,
   "id": "6178f65f",
   "metadata": {},
   "outputs": [],
   "source": [
    "url = 'https://amazon.com' + atag.get('href')"
   ]
  },
  {
   "cell_type": "code",
   "execution_count": 15,
   "id": "7eea53a7",
   "metadata": {},
   "outputs": [],
   "source": [
    "price_parent = item.find('span', 'a-price')"
   ]
  },
  {
   "cell_type": "code",
   "execution_count": 16,
   "id": "003cfc4e",
   "metadata": {},
   "outputs": [],
   "source": [
    "price = price_parent.find('span', 'a-offscreen').text"
   ]
  },
  {
   "cell_type": "code",
   "execution_count": 17,
   "id": "7d0f1df5",
   "metadata": {},
   "outputs": [],
   "source": [
    "rating = item.i.text"
   ]
  },
  {
   "cell_type": "code",
   "execution_count": 18,
   "id": "a191841e",
   "metadata": {},
   "outputs": [],
   "source": [
    "review_count = item.find('span', {'class' : 'a-size-base'}).text"
   ]
  },
  {
   "cell_type": "markdown",
   "id": "f37937f2",
   "metadata": {},
   "source": [
    "## Generalize the pattern ##"
   ]
  },
  {
   "cell_type": "code",
   "execution_count": 19,
   "id": "7d37c066",
   "metadata": {},
   "outputs": [],
   "source": [
    "def extract_record(item):\n",
    "    \"\"\"Extract and return data from a single record\"\"\"\n",
    "    #description and url\n",
    "    atag = item.h2.a\n",
    "    description = atag.text.strip()\n",
    "    url = 'https://amazon.com' + atag.get('href')\n",
    "    \n",
    "    #price\n",
    "    #price_parent = item.find('span', 'a-price')\n",
    "    #price = price_parent.find('span', 'a-offscreen').text\n",
    "    \n",
    "    #rank and rating\n",
    "    rating = item.i.text\n",
    "    review_count = item.find('span', {'class' : 'a-size-base'}).text\n",
    "    \n",
    "    result = (description, rating, review_count, url)\n",
    "    \n",
    "    return result"
   ]
  },
  {
   "cell_type": "code",
   "execution_count": 20,
   "id": "be36fbda",
   "metadata": {},
   "outputs": [],
   "source": [
    "records = []\n",
    "results = soup.find_all('div', {'data-component-type' : 's-search-result'})\n",
    "\n",
    "for item in results:\n",
    "    records.append(extract_record(item))"
   ]
  },
  {
   "cell_type": "markdown",
   "id": "742d9eb3",
   "metadata": {},
   "source": [
    "## Error handling ##"
   ]
  },
  {
   "cell_type": "code",
   "execution_count": 21,
   "id": "a66b1d1c",
   "metadata": {},
   "outputs": [],
   "source": [
    "def extract_record(item):\n",
    "    \"\"\"Extract and return data from a single record\"\"\"\n",
    "    #description and url\n",
    "    atag = item.h2.a\n",
    "    description = atag.text.strip()\n",
    "    url = 'https://amazon.com' + atag.get('href')\n",
    "    \n",
    "    #try :\n",
    "        #price\n",
    "        #price_parent = item.find('span', 'a-price')\n",
    "        #price = price_parent.find('span', 'a-offscreen').text\n",
    "    #except AttributeError:\n",
    "        #return\n",
    "    \n",
    "    try:    \n",
    "        #rank and rating\n",
    "        rating = item.i.text\n",
    "        review_count = item.find('span', {'class' : 'a-size-base'}).text\n",
    "    except AttributeError:\n",
    "        rating = ''\n",
    "        review_count = ''\n",
    "    \n",
    "    result = (description, rating, review_count, url)\n",
    "    \n",
    "    return result"
   ]
  },
  {
   "cell_type": "code",
   "execution_count": 22,
   "id": "4d482cbc",
   "metadata": {},
   "outputs": [],
   "source": [
    "records = []\n",
    "results = soup.find_all('div', {'data-component-type' : 's-search-result'})\n",
    "\n",
    "for item in results:\n",
    "    record = extract_record(item)\n",
    "    if record:\n",
    "        records.append(record)"
   ]
  },
  {
   "cell_type": "code",
   "execution_count": 23,
   "id": "5e784dfc",
   "metadata": {},
   "outputs": [
    {
     "data": {
      "text/plain": [
       "('HOLI Freeze Dried Salmon Dog Food Topper - with Omega 3 & 6 - Single Ingredient, Human-Grade Wild Caught Salmon - Freeze Dried Dog Food Flavor Enhancer for Picky Dogs – 100% All Natural',\n",
       " '4.3 out of 5 stars',\n",
       " '206',\n",
       " 'https://amazon.com/sspa/click?ie=UTF8&spc=MToyMzAxNjk4MjcxODUxNDI5OjE2NjY3MTA1Nzk6c3BfYXRmX2Jyb3dzZToyMDAwOTIwODQ5MjE5OTg6OjA6Og&sp_csd=d2lkZ2V0TmFtZT1zcF9hdGZfYnJvd3Nl&url=%2FHOLI-Caught-Salmon-Ingredient-Protein%2Fdp%2FB08PYM3S4S%2Fref%3Dsr_1_1_sspa%3Fqid%3D1666710579%26rnid%3D2975312011%26s%3Dpet-supplies%26sr%3D1-1-spons%26psc%3D1')"
      ]
     },
     "execution_count": 23,
     "metadata": {},
     "output_type": "execute_result"
    }
   ],
   "source": [
    "records[0]"
   ]
  },
  {
   "cell_type": "code",
   "execution_count": 24,
   "id": "403af1ba",
   "metadata": {},
   "outputs": [
    {
     "name": "stdout",
     "output_type": "stream",
     "text": [
      "4.3 out of 5 stars\n",
      "4.7 out of 5 stars\n",
      "4.7 out of 5 stars\n",
      "4.7 out of 5 stars\n",
      "4.8 out of 5 stars\n",
      "4.7 out of 5 stars\n",
      "4.7 out of 5 stars\n",
      "4.7 out of 5 stars\n",
      "4.7 out of 5 stars\n",
      "4.7 out of 5 stars\n",
      "4.7 out of 5 stars\n",
      "4.7 out of 5 stars\n",
      "4.0 out of 5 stars\n",
      "4.6 out of 5 stars\n",
      "4.7 out of 5 stars\n",
      "4.7 out of 5 stars\n",
      "4.6 out of 5 stars\n",
      "4.8 out of 5 stars\n",
      "4.7 out of 5 stars\n",
      "4.7 out of 5 stars\n",
      "4.7 out of 5 stars\n",
      "4.7 out of 5 stars\n",
      "4.6 out of 5 stars\n",
      "4.7 out of 5 stars\n",
      "4.7 out of 5 stars\n",
      "4.6 out of 5 stars\n"
     ]
    }
   ],
   "source": [
    "for row in records:\n",
    "    print(row[1])"
   ]
  },
  {
   "cell_type": "markdown",
   "id": "0662b6c1",
   "metadata": {},
   "source": [
    "## getting the next page ##"
   ]
  },
  {
   "cell_type": "code",
   "execution_count": 25,
   "id": "29a4a340",
   "metadata": {},
   "outputs": [],
   "source": [
    "def get_url(search_term):\n",
    "    template = 'https://www.amazon.com/s?i=pets-intl-ship&bbn=16225013011&rh=n%3A2975312011%2Cn%3A2975359011&dc&ds=v1%3ASxyY%2BRu8LEGJNuVH1uyz6ZIkIB6YBwbExS599BB82OA&qid=1666671521&rnid=2975312011&ref=sr_nr_n_1'\n",
    "    search_term = search_term.replace('', '+')\n",
    "    \n",
    "    #add term query to url\n",
    "    url = template.format(search_term)\n",
    "    \n",
    "    #add page query placeholder\n",
    "    url += '&page{}'\n",
    "    \n",
    "    return url"
   ]
  },
  {
   "cell_type": "markdown",
   "id": "e1df0a04",
   "metadata": {},
   "source": [
    "## putting it all together ##"
   ]
  },
  {
   "cell_type": "code",
   "execution_count": 26,
   "id": "c40a52c9",
   "metadata": {},
   "outputs": [],
   "source": [
    "import csv\n",
    "from bs4 import BeautifulSoup\n",
    "from selenium import webdriver\n",
    "from webdriver_manager.chrome import ChromeDriverManager\n",
    "\n",
    "def get_url(search_term):\n",
    "    template = 'https://www.amazon.com/s?i=pets-intl-ship&bbn=16225013011&rh=n%3A2975312011%2Cn%3A2975359011&dc&={}qid=1666709157&rnid=2975312011&ref=sr_pg_1'\n",
    "    search_term = search_term.replace(' ', '+')\n",
    "    \n",
    "    #add term query to url\n",
    "    url = template.format(search_term)\n",
    "    \n",
    "    #add page query placeholder\n",
    "    url += '&page{}'\n",
    "    \n",
    "    return url\n",
    "\n",
    "def extract_record(item):\n",
    "    \"\"\"Extract and return data from a single record\"\"\"\n",
    "    #description and url\n",
    "    atag = item.h2.a\n",
    "    description = atag.text.strip()\n",
    "    url = 'https://amazon.com' + atag.get('href')\n",
    "    \n",
    "    \n",
    "    try:    \n",
    "        #rank and rating\n",
    "        rating = item.i.text\n",
    "        review_count = item.find('span', {'class' : 'a-size-base'}).text\n",
    "    except AttributeError:\n",
    "        rating = ''\n",
    "        review_count = ''\n",
    "    \n",
    "    result = (description, rating, review_count, url)\n",
    "    \n",
    "    return result\n",
    "\n",
    "def main(search_term):\n",
    "    \"\"\"Run main program routine\"\"\"\n",
    "    #startup the webdriver\n",
    "    driver = webdriver.Chrome(ChromeDriverManager().install())\n",
    "    \n",
    "    record = []\n",
    "    url = get_url(search_term)\n",
    "    \n",
    "    for page in range(1, 25):\n",
    "        driver.get(url.format(page))\n",
    "        soup = BeautifulSoup(driver.page_source, 'html.parser')\n",
    "        results = soup.find_all('div', {'data-component-type' : 's-search-result'})\n",
    "        \n",
    "        for item in results:\n",
    "            record = extract_record(item)\n",
    "            if record:\n",
    "                records.append(record)\n",
    "                \n",
    "    driver.close()\n",
    "    \n",
    "    #save sata to csv file\n",
    "    with open('results.csv', 'w', newline='', encoding='utf-8') as f:\n",
    "        writer = csv.writer(f)\n",
    "        writer.writerow(['Description', 'Rating', 'ReviewCount', 'Url'])\n",
    "        writer.writerows(records)"
   ]
  },
  {
   "cell_type": "code",
   "execution_count": 27,
   "id": "ce882ecc",
   "metadata": {},
   "outputs": [],
   "source": [
    "main('ultrawide monitor')"
   ]
  },
  {
   "cell_type": "code",
   "execution_count": null,
   "id": "2809739e",
   "metadata": {},
   "outputs": [],
   "source": []
  }
 ],
 "metadata": {
  "kernelspec": {
   "display_name": "Python 3",
   "language": "python",
   "name": "python3"
  },
  "language_info": {
   "codemirror_mode": {
    "name": "ipython",
    "version": 3
   },
   "file_extension": ".py",
   "mimetype": "text/x-python",
   "name": "python",
   "nbconvert_exporter": "python",
   "pygments_lexer": "ipython3",
   "version": "3.6.13"
  }
 },
 "nbformat": 4,
 "nbformat_minor": 5
}
