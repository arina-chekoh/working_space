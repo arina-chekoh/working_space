{
 "cells": [
  {
   "cell_type": "markdown",
   "id": "e2f11b0e-168c-42ba-94c3-93b1462cda27",
   "metadata": {},
   "source": [
    "### Upload File to RawData"
   ]
  },
  {
   "cell_type": "code",
   "execution_count": 1,
   "id": "3e8a79b0-2ac7-4ddd-9e46-b5f88c334f7e",
   "metadata": {},
   "outputs": [],
   "source": [
    "from dsmlibrary.datanode import DataNode"
   ]
  },
  {
   "cell_type": "code",
   "execution_count": 2,
   "id": "7e59025b-fa8c-4d95-b772-f6f012d8a047",
   "metadata": {},
   "outputs": [],
   "source": [
    "dir_raw_id = 76"
   ]
  },
  {
   "cell_type": "code",
   "execution_count": 3,
   "id": "3235d32e-036a-4581-b163-7b7eaa8f1cc4",
   "metadata": {},
   "outputs": [
    {
     "name": "stdout",
     "output_type": "stream",
     "text": [
      "Init DataNode sucessful!\n"
     ]
    }
   ],
   "source": [
    "datanode = DataNode()"
   ]
  },
  {
   "cell_type": "code",
   "execution_count": 4,
   "id": "9b517aa0-e589-4061-a755-b8d24eacbb41",
   "metadata": {},
   "outputs": [
    {
     "name": "stdin",
     "output_type": "stream",
     "text": [
      "File results_cat.csv alrady exists, do you want to replace y/n :  y\n"
     ]
    },
    {
     "data": {
      "application/vnd.jupyter.widget-view+json": {
       "model_id": "1c9acda844054a878114b1f841bce49f",
       "version_major": 2,
       "version_minor": 0
      },
      "text/plain": [
       "  0%|          | 0.00/500k [00:00<?, ?B/s]"
      ]
     },
     "metadata": {},
     "output_type": "display_data"
    },
    {
     "data": {
      "text/plain": [
       "{'id': 437,\n",
       " 'msg': 'file results_cat.csv create sucessful',\n",
       " 'path': 'arina/DSI310-13/RawData/results_cat.csv',\n",
       " 'uploaded': True}"
      ]
     },
     "execution_count": 4,
     "metadata": {},
     "output_type": "execute_result"
    }
   ],
   "source": [
    "datanode.upload_file(directory_id=dir_raw_id, file_path='results_cat.csv')"
   ]
  },
  {
   "cell_type": "markdown",
   "id": "8cbe3419-2744-4904-9e2b-06b35c3d1d1b",
   "metadata": {},
   "source": [
    "## Read stored data from DataPlatform"
   ]
  },
  {
   "cell_type": "code",
   "execution_count": 21,
   "id": "bb9c1be6-ba88-4c11-b0a1-17f8c42f106d",
   "metadata": {},
   "outputs": [],
   "source": [
    "from dsmlibrary.datanode import DataNode\n",
    "import pandas as pd"
   ]
  },
  {
   "cell_type": "code",
   "execution_count": 22,
   "id": "c6ddc414-b1b3-4774-984a-68b8d7f347f3",
   "metadata": {},
   "outputs": [],
   "source": [
    "dir_raw_id = 76\n",
    "dir_process_id = 77"
   ]
  },
  {
   "cell_type": "code",
   "execution_count": 23,
   "id": "f71c804d-ac97-4920-9f9b-91e35e8069d0",
   "metadata": {},
   "outputs": [
    {
     "data": {
      "text/plain": [
       "{'owner': 'arina',\n",
       " 'human_size': '512.46 KB',\n",
       " 'name': 'results_cat.csv',\n",
       " 'description': 'file results_cat.csv',\n",
       " 'directory': 76,\n",
       " 'path': 'arina/DSI310-13/RawData/results_cat.csv'}"
      ]
     },
     "execution_count": 23,
     "metadata": {},
     "output_type": "execute_result"
    }
   ],
   "source": [
    "meta, fp = datanode.get_file(datanode.get_file_id(directory_id=dir_raw_id, name='results_cat.csv'))\n",
    "meta"
   ]
  },
  {
   "cell_type": "code",
   "execution_count": 24,
   "id": "c75dcd0a-6b4c-4c5c-ac67-8972667dd01e",
   "metadata": {},
   "outputs": [
    {
     "data": {
      "text/html": [
       "<div>\n",
       "<style scoped>\n",
       "    .dataframe tbody tr th:only-of-type {\n",
       "        vertical-align: middle;\n",
       "    }\n",
       "\n",
       "    .dataframe tbody tr th {\n",
       "        vertical-align: top;\n",
       "    }\n",
       "\n",
       "    .dataframe thead th {\n",
       "        text-align: right;\n",
       "    }\n",
       "</style>\n",
       "<table border=\"1\" class=\"dataframe\">\n",
       "  <thead>\n",
       "    <tr style=\"text-align: right;\">\n",
       "      <th></th>\n",
       "      <th>Description</th>\n",
       "      <th>Rating</th>\n",
       "      <th>ReviewCount</th>\n",
       "      <th>Url</th>\n",
       "    </tr>\n",
       "  </thead>\n",
       "  <tbody>\n",
       "    <tr>\n",
       "      <th>0</th>\n",
       "      <td>Yvnicll Pet Food Can Lids , Universal Silicone...</td>\n",
       "      <td>4.6 out of 5 stars</td>\n",
       "      <td>56</td>\n",
       "      <td>https://amazon.com/sspa/click?ie=UTF8&amp;spc=MToy...</td>\n",
       "    </tr>\n",
       "    <tr>\n",
       "      <th>1</th>\n",
       "      <td>Meow Mix Original Choice Dry Cat Food</td>\n",
       "      <td>4.7 out of 5 stars</td>\n",
       "      <td>32,386</td>\n",
       "      <td>https://amazon.com/Meow-Mix-Original-Choice-Fo...</td>\n",
       "    </tr>\n",
       "    <tr>\n",
       "      <th>2</th>\n",
       "      <td>Purina ONE Tender Selects Blend Adult Dry Cat ...</td>\n",
       "      <td>4.8 out of 5 stars</td>\n",
       "      <td>27,914</td>\n",
       "      <td>https://amazon.com/Purina-ONE-Tender-Selects-S...</td>\n",
       "    </tr>\n",
       "    <tr>\n",
       "      <th>3</th>\n",
       "      <td>Purina Friskies Canned Wet Cat Food 32 Count V...</td>\n",
       "      <td>4.7 out of 5 stars</td>\n",
       "      <td>30,649</td>\n",
       "      <td>https://amazon.com/Purina-Friskies-Poultry-Adu...</td>\n",
       "    </tr>\n",
       "    <tr>\n",
       "      <th>4</th>\n",
       "      <td>Purina Friskies Tasty Treasures Adult Wet Cat ...</td>\n",
       "      <td>4.7 out of 5 stars</td>\n",
       "      <td>59,412</td>\n",
       "      <td>https://amazon.com/Purina-Friskies-Shreds-Grav...</td>\n",
       "    </tr>\n",
       "    <tr>\n",
       "      <th>...</th>\n",
       "      <td>...</td>\n",
       "      <td>...</td>\n",
       "      <td>...</td>\n",
       "      <td>...</td>\n",
       "    </tr>\n",
       "    <tr>\n",
       "      <th>1483</th>\n",
       "      <td>Hill's Prescription Diet c/d Multicare Urinary...</td>\n",
       "      <td>4.8 out of 5 stars</td>\n",
       "      <td>2,617</td>\n",
       "      <td>https://amazon.com/Hills-Prescription-Urinary-...</td>\n",
       "    </tr>\n",
       "    <tr>\n",
       "      <th>1484</th>\n",
       "      <td>Purina Cat Chow Indoor Dry Cat Food, Hairball ...</td>\n",
       "      <td>4.7 out of 5 stars</td>\n",
       "      <td>4,256</td>\n",
       "      <td>https://amazon.com/Purina-Cat-Chow-Indoor-Adul...</td>\n",
       "    </tr>\n",
       "    <tr>\n",
       "      <th>1485</th>\n",
       "      <td>Purina Fancy Feast Appetizers Adult Gourmet We...</td>\n",
       "      <td>4.7 out of 5 stars</td>\n",
       "      <td>6,847</td>\n",
       "      <td>https://amazon.com/Purina-Fancy-Feast-Ingredie...</td>\n",
       "    </tr>\n",
       "    <tr>\n",
       "      <th>1486</th>\n",
       "      <td>Purina Fancy Feast Savory Centers in Gravy Adu...</td>\n",
       "      <td>4.6 out of 5 stars</td>\n",
       "      <td>8,744</td>\n",
       "      <td>https://amazon.com/Purina-Fancy-Feast-Variety-...</td>\n",
       "    </tr>\n",
       "    <tr>\n",
       "      <th>1487</th>\n",
       "      <td>Purina Cat Chow Natural Grain Free Dry Cat Foo...</td>\n",
       "      <td>4.7 out of 5 stars</td>\n",
       "      <td>4,365</td>\n",
       "      <td>https://amazon.com/Purina-Cat-Chow-Naturals-Gr...</td>\n",
       "    </tr>\n",
       "  </tbody>\n",
       "</table>\n",
       "<p>1488 rows × 4 columns</p>\n",
       "</div>"
      ],
      "text/plain": [
       "                                            Description              Rating  \\\n",
       "0     Yvnicll Pet Food Can Lids , Universal Silicone...  4.6 out of 5 stars   \n",
       "1                 Meow Mix Original Choice Dry Cat Food  4.7 out of 5 stars   \n",
       "2     Purina ONE Tender Selects Blend Adult Dry Cat ...  4.8 out of 5 stars   \n",
       "3     Purina Friskies Canned Wet Cat Food 32 Count V...  4.7 out of 5 stars   \n",
       "4     Purina Friskies Tasty Treasures Adult Wet Cat ...  4.7 out of 5 stars   \n",
       "...                                                 ...                 ...   \n",
       "1483  Hill's Prescription Diet c/d Multicare Urinary...  4.8 out of 5 stars   \n",
       "1484  Purina Cat Chow Indoor Dry Cat Food, Hairball ...  4.7 out of 5 stars   \n",
       "1485  Purina Fancy Feast Appetizers Adult Gourmet We...  4.7 out of 5 stars   \n",
       "1486  Purina Fancy Feast Savory Centers in Gravy Adu...  4.6 out of 5 stars   \n",
       "1487  Purina Cat Chow Natural Grain Free Dry Cat Foo...  4.7 out of 5 stars   \n",
       "\n",
       "     ReviewCount                                                Url  \n",
       "0             56  https://amazon.com/sspa/click?ie=UTF8&spc=MToy...  \n",
       "1         32,386  https://amazon.com/Meow-Mix-Original-Choice-Fo...  \n",
       "2         27,914  https://amazon.com/Purina-ONE-Tender-Selects-S...  \n",
       "3         30,649  https://amazon.com/Purina-Friskies-Poultry-Adu...  \n",
       "4         59,412  https://amazon.com/Purina-Friskies-Shreds-Grav...  \n",
       "...          ...                                                ...  \n",
       "1483       2,617  https://amazon.com/Hills-Prescription-Urinary-...  \n",
       "1484       4,256  https://amazon.com/Purina-Cat-Chow-Indoor-Adul...  \n",
       "1485       6,847  https://amazon.com/Purina-Fancy-Feast-Ingredie...  \n",
       "1486       8,744  https://amazon.com/Purina-Fancy-Feast-Variety-...  \n",
       "1487       4,365  https://amazon.com/Purina-Cat-Chow-Naturals-Gr...  \n",
       "\n",
       "[1488 rows x 4 columns]"
      ]
     },
     "execution_count": 24,
     "metadata": {},
     "output_type": "execute_result"
    }
   ],
   "source": [
    "data = pd.read_csv('results_cat.csv')\n",
    "data"
   ]
  },
  {
   "cell_type": "markdown",
   "id": "c40eedc2-6cbb-4930-94f0-e69620a98779",
   "metadata": {},
   "source": [
    "## Data Preparation"
   ]
  },
  {
   "cell_type": "code",
   "execution_count": 25,
   "id": "488547a1-1254-4ef7-a2a6-963fe116d674",
   "metadata": {},
   "outputs": [],
   "source": [
    "df = pd.DataFrame(data)"
   ]
  },
  {
   "cell_type": "code",
   "execution_count": 26,
   "id": "d44e2e66-c82b-40b0-8b0a-df85869f2542",
   "metadata": {},
   "outputs": [],
   "source": [
    "df['Rating'] = df['Rating'].str.replace(\"out of 5 stars\", \"\")"
   ]
  },
  {
   "cell_type": "code",
   "execution_count": 27,
   "id": "46642bf4-43d2-4a18-9723-55945d82e077",
   "metadata": {},
   "outputs": [],
   "source": [
    "df['Rating'] = df['Rating'].astype(float)"
   ]
  },
  {
   "cell_type": "code",
   "execution_count": 30,
   "id": "e1cf69e8-834d-4167-a159-46dceec8ef75",
   "metadata": {},
   "outputs": [],
   "source": [
    "df['Rating'] = df['Rating'].astype(float)"
   ]
  },
  {
   "cell_type": "markdown",
   "id": "ce0f8d53-aacb-4850-ad35-6a0b83d1844a",
   "metadata": {},
   "source": [
    "### Rename Columns"
   ]
  },
  {
   "cell_type": "code",
   "execution_count": 31,
   "id": "661ed0d9-fc1b-416c-8d44-0d5ae7e2fd64",
   "metadata": {},
   "outputs": [],
   "source": [
    "df = df.rename(columns = {'Description' : 'Title'})"
   ]
  },
  {
   "cell_type": "code",
   "execution_count": 34,
   "id": "16b7dbba-df88-41ca-a9ec-0ec175a96984",
   "metadata": {},
   "outputs": [
    {
     "data": {
      "text/plain": [
       "Title           object\n",
       "Rating         float64\n",
       "ReviewCount     object\n",
       "Url             object\n",
       "dtype: object"
      ]
     },
     "execution_count": 34,
     "metadata": {},
     "output_type": "execute_result"
    }
   ],
   "source": [
    "df.dtypes"
   ]
  },
  {
   "cell_type": "markdown",
   "id": "b6c895b8-ff60-49ba-b091-8c5cf2cddaf1",
   "metadata": {},
   "source": [
    "### Import Dog Food"
   ]
  },
  {
   "cell_type": "code",
   "execution_count": 35,
   "id": "6c194bdd-948b-40d6-a4f9-156226461284",
   "metadata": {},
   "outputs": [
    {
     "data": {
      "text/plain": [
       "{'owner': 'arina',\n",
       " 'human_size': '512.46 KB',\n",
       " 'name': 'results_cat.csv',\n",
       " 'description': 'file results_cat.csv',\n",
       " 'directory': 76,\n",
       " 'path': 'arina/DSI310-13/RawData/results_cat.csv'}"
      ]
     },
     "execution_count": 35,
     "metadata": {},
     "output_type": "execute_result"
    }
   ],
   "source": [
    "meta2, fp = datanode.get_file(datanode.get_file_id(directory_id=dir_raw_id, name='Amazon-Scrape.csv'))\n",
    "meta"
   ]
  },
  {
   "cell_type": "code",
   "execution_count": 36,
   "id": "32bc00c2-d707-4a55-8f2b-5c49671dd287",
   "metadata": {},
   "outputs": [
    {
     "data": {
      "text/html": [
       "<div>\n",
       "<style scoped>\n",
       "    .dataframe tbody tr th:only-of-type {\n",
       "        vertical-align: middle;\n",
       "    }\n",
       "\n",
       "    .dataframe tbody tr th {\n",
       "        vertical-align: top;\n",
       "    }\n",
       "\n",
       "    .dataframe thead th {\n",
       "        text-align: right;\n",
       "    }\n",
       "</style>\n",
       "<table border=\"1\" class=\"dataframe\">\n",
       "  <thead>\n",
       "    <tr style=\"text-align: right;\">\n",
       "      <th></th>\n",
       "      <th>Title</th>\n",
       "      <th>Rating</th>\n",
       "      <th>ReviewCount</th>\n",
       "      <th>Url</th>\n",
       "    </tr>\n",
       "  </thead>\n",
       "  <tbody>\n",
       "    <tr>\n",
       "      <th>0</th>\n",
       "      <td>HOLI Freeze Dried Salmon Dog Food Topper - wit...</td>\n",
       "      <td>4.3</td>\n",
       "      <td>206</td>\n",
       "      <td>https://amazon.com/sspa/click?ie=UTF8&amp;spc=MToy...</td>\n",
       "    </tr>\n",
       "    <tr>\n",
       "      <th>1</th>\n",
       "      <td>Blue Buffalo Life Protection Formula Natural A...</td>\n",
       "      <td>4.7</td>\n",
       "      <td>21,746</td>\n",
       "      <td>https://amazon.com/Blue-Buffalo-Protection-For...</td>\n",
       "    </tr>\n",
       "    <tr>\n",
       "      <th>2</th>\n",
       "      <td>Purina Pro Plan High Protein Dog Food With Pro...</td>\n",
       "      <td>4.7</td>\n",
       "      <td>16,618</td>\n",
       "      <td>https://amazon.com/Purina-Pro-Plan-Shredded-Ch...</td>\n",
       "    </tr>\n",
       "    <tr>\n",
       "      <th>3</th>\n",
       "      <td>Purina ONE Natural Dry Dog Food, SmartBlend La...</td>\n",
       "      <td>4.7</td>\n",
       "      <td>13,205</td>\n",
       "      <td>https://amazon.com/Purina-Smartblend-Natural-F...</td>\n",
       "    </tr>\n",
       "    <tr>\n",
       "      <th>4</th>\n",
       "      <td>Royal Canin Small Breed Adult Dry Dog Food, 14...</td>\n",
       "      <td>4.8</td>\n",
       "      <td>9,704</td>\n",
       "      <td>https://amazon.com/Royal-Canin-Health-Nutritio...</td>\n",
       "    </tr>\n",
       "    <tr>\n",
       "      <th>...</th>\n",
       "      <td>...</td>\n",
       "      <td>...</td>\n",
       "      <td>...</td>\n",
       "      <td>...</td>\n",
       "    </tr>\n",
       "    <tr>\n",
       "      <th>645</th>\n",
       "      <td>Purina ONE SmartBlend Natural Healthy Weight F...</td>\n",
       "      <td>4.7</td>\n",
       "      <td>13,596</td>\n",
       "      <td>https://amazon.com/Purina-Smartblend-Natural-H...</td>\n",
       "    </tr>\n",
       "    <tr>\n",
       "      <th>646</th>\n",
       "      <td>Wellness Complete Health Dry Dog Food with Gra...</td>\n",
       "      <td>4.6</td>\n",
       "      <td>7,197</td>\n",
       "      <td>https://amazon.com/Wellness-Complete-Natural-F...</td>\n",
       "    </tr>\n",
       "    <tr>\n",
       "      <th>647</th>\n",
       "      <td>VICTOR Super Premium Dog Food – Hi-Pro Plus Dr...</td>\n",
       "      <td>4.7</td>\n",
       "      <td>9,447</td>\n",
       "      <td>https://amazon.com/VICTOR-Super-Premium-Dog-Fo...</td>\n",
       "    </tr>\n",
       "    <tr>\n",
       "      <th>648</th>\n",
       "      <td>Blue Buffalo Life Protection Formula Natural S...</td>\n",
       "      <td>4.7</td>\n",
       "      <td>8,334</td>\n",
       "      <td>https://amazon.com/Blue-Buffalo-Protection-For...</td>\n",
       "    </tr>\n",
       "    <tr>\n",
       "      <th>649</th>\n",
       "      <td>Blue Buffalo Life Protection Formula Natural P...</td>\n",
       "      <td>4.6</td>\n",
       "      <td>9,918</td>\n",
       "      <td>https://amazon.com/Blue-Buffalo-Protection-For...</td>\n",
       "    </tr>\n",
       "  </tbody>\n",
       "</table>\n",
       "<p>650 rows × 4 columns</p>\n",
       "</div>"
      ],
      "text/plain": [
       "                                                 Title  Rating ReviewCount  \\\n",
       "0    HOLI Freeze Dried Salmon Dog Food Topper - wit...     4.3         206   \n",
       "1    Blue Buffalo Life Protection Formula Natural A...     4.7      21,746   \n",
       "2    Purina Pro Plan High Protein Dog Food With Pro...     4.7      16,618   \n",
       "3    Purina ONE Natural Dry Dog Food, SmartBlend La...     4.7      13,205   \n",
       "4    Royal Canin Small Breed Adult Dry Dog Food, 14...     4.8       9,704   \n",
       "..                                                 ...     ...         ...   \n",
       "645  Purina ONE SmartBlend Natural Healthy Weight F...     4.7      13,596   \n",
       "646  Wellness Complete Health Dry Dog Food with Gra...     4.6       7,197   \n",
       "647  VICTOR Super Premium Dog Food – Hi-Pro Plus Dr...     4.7       9,447   \n",
       "648  Blue Buffalo Life Protection Formula Natural S...     4.7       8,334   \n",
       "649  Blue Buffalo Life Protection Formula Natural P...     4.6       9,918   \n",
       "\n",
       "                                                   Url  \n",
       "0    https://amazon.com/sspa/click?ie=UTF8&spc=MToy...  \n",
       "1    https://amazon.com/Blue-Buffalo-Protection-For...  \n",
       "2    https://amazon.com/Purina-Pro-Plan-Shredded-Ch...  \n",
       "3    https://amazon.com/Purina-Smartblend-Natural-F...  \n",
       "4    https://amazon.com/Royal-Canin-Health-Nutritio...  \n",
       "..                                                 ...  \n",
       "645  https://amazon.com/Purina-Smartblend-Natural-H...  \n",
       "646  https://amazon.com/Wellness-Complete-Natural-F...  \n",
       "647  https://amazon.com/VICTOR-Super-Premium-Dog-Fo...  \n",
       "648  https://amazon.com/Blue-Buffalo-Protection-For...  \n",
       "649  https://amazon.com/Blue-Buffalo-Protection-For...  \n",
       "\n",
       "[650 rows x 4 columns]"
      ]
     },
     "execution_count": 36,
     "metadata": {},
     "output_type": "execute_result"
    }
   ],
   "source": [
    "dog = pd.read_csv('Amazon-Scrape.csv')\n",
    "dog"
   ]
  },
  {
   "cell_type": "code",
   "execution_count": 37,
   "id": "4e3b378b-34a7-451c-88ef-341dc3260d82",
   "metadata": {},
   "outputs": [],
   "source": [
    "df_d = pd.DataFrame(dog)"
   ]
  },
  {
   "cell_type": "code",
   "execution_count": 38,
   "id": "297e32fc-96a8-4afe-af80-89641fc56e84",
   "metadata": {},
   "outputs": [],
   "source": [
    "pet_food = pd.concat([dog, df], axis=0)"
   ]
  },
  {
   "cell_type": "code",
   "execution_count": 39,
   "id": "9ce16fe5-ff53-4a24-82fb-9aef40dde32f",
   "metadata": {},
   "outputs": [
    {
     "data": {
      "text/html": [
       "<div>\n",
       "<style scoped>\n",
       "    .dataframe tbody tr th:only-of-type {\n",
       "        vertical-align: middle;\n",
       "    }\n",
       "\n",
       "    .dataframe tbody tr th {\n",
       "        vertical-align: top;\n",
       "    }\n",
       "\n",
       "    .dataframe thead th {\n",
       "        text-align: right;\n",
       "    }\n",
       "</style>\n",
       "<table border=\"1\" class=\"dataframe\">\n",
       "  <thead>\n",
       "    <tr style=\"text-align: right;\">\n",
       "      <th></th>\n",
       "      <th>Title</th>\n",
       "      <th>Rating</th>\n",
       "      <th>ReviewCount</th>\n",
       "      <th>Url</th>\n",
       "    </tr>\n",
       "  </thead>\n",
       "  <tbody>\n",
       "    <tr>\n",
       "      <th>0</th>\n",
       "      <td>HOLI Freeze Dried Salmon Dog Food Topper - wit...</td>\n",
       "      <td>4.3</td>\n",
       "      <td>206</td>\n",
       "      <td>https://amazon.com/sspa/click?ie=UTF8&amp;spc=MToy...</td>\n",
       "    </tr>\n",
       "    <tr>\n",
       "      <th>1</th>\n",
       "      <td>Blue Buffalo Life Protection Formula Natural A...</td>\n",
       "      <td>4.7</td>\n",
       "      <td>21,746</td>\n",
       "      <td>https://amazon.com/Blue-Buffalo-Protection-For...</td>\n",
       "    </tr>\n",
       "    <tr>\n",
       "      <th>2</th>\n",
       "      <td>Purina Pro Plan High Protein Dog Food With Pro...</td>\n",
       "      <td>4.7</td>\n",
       "      <td>16,618</td>\n",
       "      <td>https://amazon.com/Purina-Pro-Plan-Shredded-Ch...</td>\n",
       "    </tr>\n",
       "    <tr>\n",
       "      <th>3</th>\n",
       "      <td>Purina ONE Natural Dry Dog Food, SmartBlend La...</td>\n",
       "      <td>4.7</td>\n",
       "      <td>13,205</td>\n",
       "      <td>https://amazon.com/Purina-Smartblend-Natural-F...</td>\n",
       "    </tr>\n",
       "    <tr>\n",
       "      <th>4</th>\n",
       "      <td>Royal Canin Small Breed Adult Dry Dog Food, 14...</td>\n",
       "      <td>4.8</td>\n",
       "      <td>9,704</td>\n",
       "      <td>https://amazon.com/Royal-Canin-Health-Nutritio...</td>\n",
       "    </tr>\n",
       "    <tr>\n",
       "      <th>...</th>\n",
       "      <td>...</td>\n",
       "      <td>...</td>\n",
       "      <td>...</td>\n",
       "      <td>...</td>\n",
       "    </tr>\n",
       "    <tr>\n",
       "      <th>1483</th>\n",
       "      <td>Hill's Prescription Diet c/d Multicare Urinary...</td>\n",
       "      <td>4.8</td>\n",
       "      <td>2,617</td>\n",
       "      <td>https://amazon.com/Hills-Prescription-Urinary-...</td>\n",
       "    </tr>\n",
       "    <tr>\n",
       "      <th>1484</th>\n",
       "      <td>Purina Cat Chow Indoor Dry Cat Food, Hairball ...</td>\n",
       "      <td>4.7</td>\n",
       "      <td>4,256</td>\n",
       "      <td>https://amazon.com/Purina-Cat-Chow-Indoor-Adul...</td>\n",
       "    </tr>\n",
       "    <tr>\n",
       "      <th>1485</th>\n",
       "      <td>Purina Fancy Feast Appetizers Adult Gourmet We...</td>\n",
       "      <td>4.7</td>\n",
       "      <td>6,847</td>\n",
       "      <td>https://amazon.com/Purina-Fancy-Feast-Ingredie...</td>\n",
       "    </tr>\n",
       "    <tr>\n",
       "      <th>1486</th>\n",
       "      <td>Purina Fancy Feast Savory Centers in Gravy Adu...</td>\n",
       "      <td>4.6</td>\n",
       "      <td>8,744</td>\n",
       "      <td>https://amazon.com/Purina-Fancy-Feast-Variety-...</td>\n",
       "    </tr>\n",
       "    <tr>\n",
       "      <th>1487</th>\n",
       "      <td>Purina Cat Chow Natural Grain Free Dry Cat Foo...</td>\n",
       "      <td>4.7</td>\n",
       "      <td>4,365</td>\n",
       "      <td>https://amazon.com/Purina-Cat-Chow-Naturals-Gr...</td>\n",
       "    </tr>\n",
       "  </tbody>\n",
       "</table>\n",
       "<p>2138 rows × 4 columns</p>\n",
       "</div>"
      ],
      "text/plain": [
       "                                                  Title  Rating ReviewCount  \\\n",
       "0     HOLI Freeze Dried Salmon Dog Food Topper - wit...     4.3         206   \n",
       "1     Blue Buffalo Life Protection Formula Natural A...     4.7      21,746   \n",
       "2     Purina Pro Plan High Protein Dog Food With Pro...     4.7      16,618   \n",
       "3     Purina ONE Natural Dry Dog Food, SmartBlend La...     4.7      13,205   \n",
       "4     Royal Canin Small Breed Adult Dry Dog Food, 14...     4.8       9,704   \n",
       "...                                                 ...     ...         ...   \n",
       "1483  Hill's Prescription Diet c/d Multicare Urinary...     4.8       2,617   \n",
       "1484  Purina Cat Chow Indoor Dry Cat Food, Hairball ...     4.7       4,256   \n",
       "1485  Purina Fancy Feast Appetizers Adult Gourmet We...     4.7       6,847   \n",
       "1486  Purina Fancy Feast Savory Centers in Gravy Adu...     4.6       8,744   \n",
       "1487  Purina Cat Chow Natural Grain Free Dry Cat Foo...     4.7       4,365   \n",
       "\n",
       "                                                    Url  \n",
       "0     https://amazon.com/sspa/click?ie=UTF8&spc=MToy...  \n",
       "1     https://amazon.com/Blue-Buffalo-Protection-For...  \n",
       "2     https://amazon.com/Purina-Pro-Plan-Shredded-Ch...  \n",
       "3     https://amazon.com/Purina-Smartblend-Natural-F...  \n",
       "4     https://amazon.com/Royal-Canin-Health-Nutritio...  \n",
       "...                                                 ...  \n",
       "1483  https://amazon.com/Hills-Prescription-Urinary-...  \n",
       "1484  https://amazon.com/Purina-Cat-Chow-Indoor-Adul...  \n",
       "1485  https://amazon.com/Purina-Fancy-Feast-Ingredie...  \n",
       "1486  https://amazon.com/Purina-Fancy-Feast-Variety-...  \n",
       "1487  https://amazon.com/Purina-Cat-Chow-Naturals-Gr...  \n",
       "\n",
       "[2138 rows x 4 columns]"
      ]
     },
     "execution_count": 39,
     "metadata": {},
     "output_type": "execute_result"
    }
   ],
   "source": [
    "pet_food"
   ]
  },
  {
   "cell_type": "code",
   "execution_count": 43,
   "id": "988fa951-4e05-45db-a07b-d881d300d19d",
   "metadata": {},
   "outputs": [],
   "source": [
    "pet_food = pet_food.drop(['Url'], axis=1)"
   ]
  },
  {
   "cell_type": "code",
   "execution_count": 44,
   "id": "4549966d-38f6-4345-a2d9-fab44e528191",
   "metadata": {},
   "outputs": [
    {
     "data": {
      "text/html": [
       "<div>\n",
       "<style scoped>\n",
       "    .dataframe tbody tr th:only-of-type {\n",
       "        vertical-align: middle;\n",
       "    }\n",
       "\n",
       "    .dataframe tbody tr th {\n",
       "        vertical-align: top;\n",
       "    }\n",
       "\n",
       "    .dataframe thead th {\n",
       "        text-align: right;\n",
       "    }\n",
       "</style>\n",
       "<table border=\"1\" class=\"dataframe\">\n",
       "  <thead>\n",
       "    <tr style=\"text-align: right;\">\n",
       "      <th></th>\n",
       "      <th>Title</th>\n",
       "      <th>Rating</th>\n",
       "      <th>ReviewCount</th>\n",
       "    </tr>\n",
       "  </thead>\n",
       "  <tbody>\n",
       "    <tr>\n",
       "      <th>0</th>\n",
       "      <td>HOLI Freeze Dried Salmon Dog Food Topper - wit...</td>\n",
       "      <td>4.3</td>\n",
       "      <td>206</td>\n",
       "    </tr>\n",
       "    <tr>\n",
       "      <th>1</th>\n",
       "      <td>Blue Buffalo Life Protection Formula Natural A...</td>\n",
       "      <td>4.7</td>\n",
       "      <td>21,746</td>\n",
       "    </tr>\n",
       "    <tr>\n",
       "      <th>2</th>\n",
       "      <td>Purina Pro Plan High Protein Dog Food With Pro...</td>\n",
       "      <td>4.7</td>\n",
       "      <td>16,618</td>\n",
       "    </tr>\n",
       "    <tr>\n",
       "      <th>3</th>\n",
       "      <td>Purina ONE Natural Dry Dog Food, SmartBlend La...</td>\n",
       "      <td>4.7</td>\n",
       "      <td>13,205</td>\n",
       "    </tr>\n",
       "    <tr>\n",
       "      <th>4</th>\n",
       "      <td>Royal Canin Small Breed Adult Dry Dog Food, 14...</td>\n",
       "      <td>4.8</td>\n",
       "      <td>9,704</td>\n",
       "    </tr>\n",
       "    <tr>\n",
       "      <th>...</th>\n",
       "      <td>...</td>\n",
       "      <td>...</td>\n",
       "      <td>...</td>\n",
       "    </tr>\n",
       "    <tr>\n",
       "      <th>1483</th>\n",
       "      <td>Hill's Prescription Diet c/d Multicare Urinary...</td>\n",
       "      <td>4.8</td>\n",
       "      <td>2,617</td>\n",
       "    </tr>\n",
       "    <tr>\n",
       "      <th>1484</th>\n",
       "      <td>Purina Cat Chow Indoor Dry Cat Food, Hairball ...</td>\n",
       "      <td>4.7</td>\n",
       "      <td>4,256</td>\n",
       "    </tr>\n",
       "    <tr>\n",
       "      <th>1485</th>\n",
       "      <td>Purina Fancy Feast Appetizers Adult Gourmet We...</td>\n",
       "      <td>4.7</td>\n",
       "      <td>6,847</td>\n",
       "    </tr>\n",
       "    <tr>\n",
       "      <th>1486</th>\n",
       "      <td>Purina Fancy Feast Savory Centers in Gravy Adu...</td>\n",
       "      <td>4.6</td>\n",
       "      <td>8,744</td>\n",
       "    </tr>\n",
       "    <tr>\n",
       "      <th>1487</th>\n",
       "      <td>Purina Cat Chow Natural Grain Free Dry Cat Foo...</td>\n",
       "      <td>4.7</td>\n",
       "      <td>4,365</td>\n",
       "    </tr>\n",
       "  </tbody>\n",
       "</table>\n",
       "<p>2138 rows × 3 columns</p>\n",
       "</div>"
      ],
      "text/plain": [
       "                                                  Title  Rating ReviewCount\n",
       "0     HOLI Freeze Dried Salmon Dog Food Topper - wit...     4.3         206\n",
       "1     Blue Buffalo Life Protection Formula Natural A...     4.7      21,746\n",
       "2     Purina Pro Plan High Protein Dog Food With Pro...     4.7      16,618\n",
       "3     Purina ONE Natural Dry Dog Food, SmartBlend La...     4.7      13,205\n",
       "4     Royal Canin Small Breed Adult Dry Dog Food, 14...     4.8       9,704\n",
       "...                                                 ...     ...         ...\n",
       "1483  Hill's Prescription Diet c/d Multicare Urinary...     4.8       2,617\n",
       "1484  Purina Cat Chow Indoor Dry Cat Food, Hairball ...     4.7       4,256\n",
       "1485  Purina Fancy Feast Appetizers Adult Gourmet We...     4.7       6,847\n",
       "1486  Purina Fancy Feast Savory Centers in Gravy Adu...     4.6       8,744\n",
       "1487  Purina Cat Chow Natural Grain Free Dry Cat Foo...     4.7       4,365\n",
       "\n",
       "[2138 rows x 3 columns]"
      ]
     },
     "execution_count": 44,
     "metadata": {},
     "output_type": "execute_result"
    }
   ],
   "source": [
    "pet_food"
   ]
  },
  {
   "cell_type": "markdown",
   "id": "c56866b5-3cd3-4eeb-8586-cfd3dbf0a7f6",
   "metadata": {},
   "source": [
    "### write DataNode to DataPlatform"
   ]
  },
  {
   "cell_type": "code",
   "execution_count": 45,
   "id": "057438b0-f581-4557-9f78-0fa9a2082732",
   "metadata": {},
   "outputs": [
    {
     "data": {
      "text/plain": [
       "{'sucess': True,\n",
       " 'file_id': 440,\n",
       " 'path': 'arina/DSI310-13/ProcessData/Amazon : Cat Food Web Scraping.parquet',\n",
       " 'lineage': True}"
      ]
     },
     "execution_count": 45,
     "metadata": {},
     "output_type": "execute_result"
    }
   ],
   "source": [
    "datanode.write(df=pet_food, directory=dir_process_id, name=\"Amazon : Cat Food Web Scraping\", profiling=True, lineage=[datanode.get_file_id(directory_id=dir_raw_id, name='results_cat.csv')])"
   ]
  },
  {
   "cell_type": "code",
   "execution_count": null,
   "id": "5cc7cfa0-a8b9-4e82-8f5f-377f3be23b52",
   "metadata": {},
   "outputs": [],
   "source": []
  }
 ],
 "metadata": {
  "kernelspec": {
   "display_name": "Python 3 (ipykernel)",
   "language": "python",
   "name": "python3"
  },
  "language_info": {
   "codemirror_mode": {
    "name": "ipython",
    "version": 3
   },
   "file_extension": ".py",
   "mimetype": "text/x-python",
   "name": "python",
   "nbconvert_exporter": "python",
   "pygments_lexer": "ipython3",
   "version": "3.10.5"
  }
 },
 "nbformat": 4,
 "nbformat_minor": 5
}
