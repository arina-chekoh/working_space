{
 "cells": [
  {
   "cell_type": "code",
   "execution_count": 1,
   "id": "b0402c8d",
   "metadata": {},
   "outputs": [],
   "source": [
    "import csv\n",
    "from bs4 import BeautifulSoup"
   ]
  },
  {
   "cell_type": "code",
   "execution_count": 2,
   "id": "3a8e24c4",
   "metadata": {},
   "outputs": [],
   "source": [
    "from selenium import webdriver\n",
    "from webdriver_manager.chrome import ChromeDriverManager"
   ]
  },
  {
   "cell_type": "code",
   "execution_count": 3,
   "id": "ad7b1d2e",
   "metadata": {},
   "outputs": [],
   "source": [
    "driver = webdriver.Chrome(ChromeDriverManager().install())"
   ]
  },
  {
   "cell_type": "code",
   "execution_count": 4,
   "id": "c313a95a",
   "metadata": {},
   "outputs": [],
   "source": [
    "url = 'https://www.amazon.com'\n",
    "driver.get(url)"
   ]
  },
  {
   "cell_type": "code",
   "execution_count": 5,
   "id": "9a800212",
   "metadata": {},
   "outputs": [],
   "source": [
    "def get_url(search_term):\n",
    "    template = 'https://www.amazon.com/s?k={}&ref=nb_sb_noss_1'\n",
    "    search_term = search_term.replace(' ', '+')\n",
    "    return template.format(search_term)"
   ]
  },
  {
   "cell_type": "code",
   "execution_count": 6,
   "id": "6f3c15aa",
   "metadata": {},
   "outputs": [
    {
     "name": "stdout",
     "output_type": "stream",
     "text": [
      "https://www.amazon.com/s?k=cat+food&ref=nb_sb_noss_1\n"
     ]
    }
   ],
   "source": [
    "url = get_url('cat food')\n",
    "print(url)"
   ]
  },
  {
   "cell_type": "code",
   "execution_count": 7,
   "id": "9a463f6a",
   "metadata": {},
   "outputs": [],
   "source": [
    "driver.get(url)"
   ]
  },
  {
   "cell_type": "markdown",
   "id": "5d155059",
   "metadata": {},
   "source": [
    "# Extract the collection ##"
   ]
  },
  {
   "cell_type": "code",
   "execution_count": 8,
   "id": "d0dd5c1c",
   "metadata": {},
   "outputs": [],
   "source": [
    "soup = BeautifulSoup(driver.page_source, 'html.parser')"
   ]
  },
  {
   "cell_type": "code",
   "execution_count": 9,
   "id": "4d083b6a",
   "metadata": {},
   "outputs": [],
   "source": [
    "results = soup.find_all('div', {'data-component-type' : 's-search-result'})"
   ]
  },
  {
   "cell_type": "code",
   "execution_count": 10,
   "id": "c3ed1c84",
   "metadata": {},
   "outputs": [
    {
     "data": {
      "text/plain": [
       "60"
      ]
     },
     "execution_count": 10,
     "metadata": {},
     "output_type": "execute_result"
    }
   ],
   "source": [
    "len(results)"
   ]
  },
  {
   "cell_type": "markdown",
   "id": "54bd7235",
   "metadata": {},
   "source": [
    "## prototype the record ##"
   ]
  },
  {
   "cell_type": "code",
   "execution_count": 11,
   "id": "370199a6",
   "metadata": {},
   "outputs": [],
   "source": [
    "item = results[0]"
   ]
  },
  {
   "cell_type": "code",
   "execution_count": 12,
   "id": "85c664a9",
   "metadata": {},
   "outputs": [],
   "source": [
    "atag = item.h2.a"
   ]
  },
  {
   "cell_type": "code",
   "execution_count": 13,
   "id": "43cf6ecd",
   "metadata": {},
   "outputs": [],
   "source": [
    "description = atag.text.strip()"
   ]
  },
  {
   "cell_type": "code",
   "execution_count": 14,
   "id": "54d286cf",
   "metadata": {},
   "outputs": [],
   "source": [
    "url = 'https://amazon.com' + atag.get('href')"
   ]
  },
  {
   "cell_type": "code",
   "execution_count": 15,
   "id": "3c086309",
   "metadata": {},
   "outputs": [],
   "source": [
    "rating = item.i.text"
   ]
  },
  {
   "cell_type": "code",
   "execution_count": 16,
   "id": "d0a65eff",
   "metadata": {},
   "outputs": [],
   "source": [
    "review_count = item.find('span', {'class' : 'a-size-base'}).text"
   ]
  },
  {
   "cell_type": "markdown",
   "id": "3fcb8ac0",
   "metadata": {},
   "source": [
    "## Error handling ##"
   ]
  },
  {
   "cell_type": "code",
   "execution_count": 17,
   "id": "c0b02ad8",
   "metadata": {},
   "outputs": [],
   "source": [
    "def extract_record(item):\n",
    "    \"\"\"Extract and return data from a single record\"\"\"\n",
    "    #description and url\n",
    "    atag = item.h2.a\n",
    "    description = atag.text.strip()\n",
    "    url = 'https://amazon.com' + atag.get('href')\n",
    "    \n",
    "    #try :\n",
    "        #price\n",
    "        #price_parent = item.find('span', 'a-price')\n",
    "        #price = price_parent.find('span', 'a-offscreen').text\n",
    "    #except AttributeError:\n",
    "        #return\n",
    "    \n",
    "    try:    \n",
    "        #rank and rating\n",
    "        rating = item.i.text\n",
    "        review_count = item.find('span', {'class' : 'a-size-base'}).text\n",
    "    except AttributeError:\n",
    "        rating = ''\n",
    "        review_count = ''\n",
    "    \n",
    "    result = (description, rating, review_count, url)\n",
    "    \n",
    "    return result"
   ]
  },
  {
   "cell_type": "code",
   "execution_count": 18,
   "id": "cfaf848b",
   "metadata": {},
   "outputs": [],
   "source": [
    "records = []\n",
    "results = soup.find_all('div', {'data-component-type' : 's-search-result'})\n",
    "\n",
    "for item in results:\n",
    "    record = extract_record(item)\n",
    "    if record:\n",
    "        records.append(record)"
   ]
  },
  {
   "cell_type": "code",
   "execution_count": 19,
   "id": "7bf7421b",
   "metadata": {},
   "outputs": [
    {
     "data": {
      "text/plain": [
       "('Yvnicll Pet Food Can Lids , Universal Silicone Can Lids, Can Covers Most Standard Size Dog and Cat Can Tops（6 Pack）',\n",
       " '4.6 out of 5 stars',\n",
       " '56',\n",
       " 'https://amazon.com/sspa/click?ie=UTF8&spc=MToyMzg2ODAwNzEzODMzMjI5OjE2NjcyMjkzOTU6c3BfYXRmOjIwMDA1NTA0NDA0Njc5ODo6MDo6&sp_csd=d2lkZ2V0TmFtZT1zcF9hdGY&url=%2FYvnicll-Universal-Silicone-Covers-Standard%2Fdp%2FB09VC3MTPF%2Fref%3Dsr_1_1_sspa%3Fkeywords%3Dcat%2Bfood%26qid%3D1667229395%26qu%3DeyJxc2MiOiI4LjQ1IiwicXNhIjoiOC4yNCIsInFzcCI6IjguMjUifQ%253D%253D%26sr%3D8-1-spons%26psc%3D1')"
      ]
     },
     "execution_count": 19,
     "metadata": {},
     "output_type": "execute_result"
    }
   ],
   "source": [
    "records[0]"
   ]
  },
  {
   "cell_type": "code",
   "execution_count": 20,
   "id": "641ae41b",
   "metadata": {},
   "outputs": [
    {
     "name": "stdout",
     "output_type": "stream",
     "text": [
      "4.6 out of 5 stars\n",
      "4.7 out of 5 stars\n",
      "4.8 out of 5 stars\n",
      "4.7 out of 5 stars\n",
      "4.7 out of 5 stars\n",
      "4.7 out of 5 stars\n",
      "4.8 out of 5 stars\n",
      "4.7 out of 5 stars\n",
      "4.7 out of 5 stars\n",
      "4.7 out of 5 stars\n",
      "4.7 out of 5 stars\n",
      "4.7 out of 5 stars\n",
      "4.7 out of 5 stars\n",
      "4.8 out of 5 stars\n",
      "4.7 out of 5 stars\n",
      "4.8 out of 5 stars\n",
      "4.6 out of 5 stars\n",
      "4.5 out of 5 stars\n",
      "5.0 out of 5 stars\n",
      "4.4 out of 5 stars\n",
      "4.6 out of 5 stars\n",
      "4.8 out of 5 stars\n",
      "4.8 out of 5 stars\n",
      "4.6 out of 5 stars\n",
      "4.8 out of 5 stars\n",
      "4.8 out of 5 stars\n",
      "4.8 out of 5 stars\n",
      "4.8 out of 5 stars\n",
      "4.7 out of 5 stars\n",
      "\n",
      "4.1 out of 5 stars\n",
      "1.9 out of 5 stars\n",
      "4.7 out of 5 stars\n",
      "4.7 out of 5 stars\n",
      "4.7 out of 5 stars\n",
      "4.8 out of 5 stars\n",
      "4.7 out of 5 stars\n",
      "4.7 out of 5 stars\n",
      "4.7 out of 5 stars\n",
      "4.7 out of 5 stars\n",
      "4.7 out of 5 stars\n",
      "4.6 out of 5 stars\n",
      "4.7 out of 5 stars\n",
      "4.8 out of 5 stars\n",
      "4.7 out of 5 stars\n",
      "4.7 out of 5 stars\n",
      "4.7 out of 5 stars\n",
      "4.6 out of 5 stars\n",
      "4.7 out of 5 stars\n",
      "4.8 out of 5 stars\n",
      "4.6 out of 5 stars\n",
      "4.7 out of 5 stars\n",
      "4.8 out of 5 stars\n",
      "4.7 out of 5 stars\n",
      "4.7 out of 5 stars\n",
      "4.6 out of 5 stars\n",
      "4.7 out of 5 stars\n",
      "4.6 out of 5 stars\n",
      "\n",
      "3.9 out of 5 stars\n"
     ]
    }
   ],
   "source": [
    "for row in records:\n",
    "    print(row[1])"
   ]
  },
  {
   "cell_type": "markdown",
   "id": "810e2b09",
   "metadata": {},
   "source": [
    "## getting the next page ##"
   ]
  },
  {
   "cell_type": "code",
   "execution_count": 21,
   "id": "f471e27f",
   "metadata": {},
   "outputs": [],
   "source": [
    "def get_url(search_term):\n",
    "    template = 'https://www.amazon.com/s?k={}&ref=nb_sb_noss_1'\n",
    "    search_term = search_term.replace(' ', '+')\n",
    "    \n",
    "    #add term query to url\n",
    "    url = template.format(search_term)\n",
    "    \n",
    "    #add page query placeholder\n",
    "    url += '&page{}'\n",
    "    \n",
    "    return url"
   ]
  },
  {
   "cell_type": "markdown",
   "id": "75822307",
   "metadata": {},
   "source": [
    "## putting it all together ##"
   ]
  },
  {
   "cell_type": "code",
   "execution_count": 22,
   "id": "4b851088",
   "metadata": {},
   "outputs": [],
   "source": [
    "import csv\n",
    "from bs4 import BeautifulSoup\n",
    "from selenium import webdriver\n",
    "from webdriver_manager.chrome import ChromeDriverManager\n",
    "\n",
    "def get_url(search_term):\n",
    "    template = 'https://www.amazon.com/s?k={}&ref=nb_sb_noss_1'\n",
    "    search_term = search_term.replace(' ', '+')\n",
    "    \n",
    "    #add term query to url\n",
    "    url = template.format(search_term)\n",
    "    \n",
    "    #add page query placeholder\n",
    "    url += '&page{}'\n",
    "    \n",
    "    return url\n",
    "\n",
    "def extract_record(item):\n",
    "    \"\"\"Extract and return data from a single record\"\"\"\n",
    "    #description and url\n",
    "    atag = item.h2.a\n",
    "    description = atag.text.strip()\n",
    "    url = 'https://amazon.com' + atag.get('href')\n",
    "    \n",
    "    \n",
    "    try:    \n",
    "        #rank and rating\n",
    "        rating = item.i.text\n",
    "        review_count = item.find('span', {'class' : 'a-size-base'}).text\n",
    "    except AttributeError:\n",
    "        rating = ''\n",
    "        review_count = ''\n",
    "    \n",
    "    result = (description, rating, review_count, url)\n",
    "    \n",
    "    return result\n",
    "\n",
    "def main(search_term):\n",
    "    \"\"\"Run main program routine\"\"\"\n",
    "    #startup the webdriver\n",
    "    driver = webdriver.Chrome(ChromeDriverManager().install())\n",
    "    \n",
    "    record = []\n",
    "    url = get_url(search_term)\n",
    "    \n",
    "    for page in range(1, 25):\n",
    "        driver.get(url.format(page))\n",
    "        soup = BeautifulSoup(driver.page_source, 'html.parser')\n",
    "        results = soup.find_all('div', {'data-component-type' : 's-search-result'})\n",
    "        \n",
    "        for item in results:\n",
    "            record = extract_record(item)\n",
    "            if record:\n",
    "                records.append(record)\n",
    "                \n",
    "    driver.close()\n",
    "    \n",
    "    #save sata to csv file\n",
    "    with open('results.csv', 'w', newline='', encoding='utf-8') as f:\n",
    "        writer = csv.writer(f)\n",
    "        writer.writerow(['Description', 'Rating', 'ReviewCount', 'Url'])\n",
    "        writer.writerows(records)"
   ]
  },
  {
   "cell_type": "code",
   "execution_count": 23,
   "id": "ed25ecf6",
   "metadata": {},
   "outputs": [],
   "source": [
    "main('cat food')"
   ]
  },
  {
   "cell_type": "code",
   "execution_count": null,
   "id": "59b9dedb",
   "metadata": {},
   "outputs": [],
   "source": []
  }
 ],
 "metadata": {
  "kernelspec": {
   "display_name": "Python 3 (ipykernel)",
   "language": "python",
   "name": "python3"
  },
  "language_info": {
   "codemirror_mode": {
    "name": "ipython",
    "version": 3
   },
   "file_extension": ".py",
   "mimetype": "text/x-python",
   "name": "python",
   "nbconvert_exporter": "python",
   "pygments_lexer": "ipython3",
   "version": "3.9.12"
  }
 },
 "nbformat": 4,
 "nbformat_minor": 5
}
