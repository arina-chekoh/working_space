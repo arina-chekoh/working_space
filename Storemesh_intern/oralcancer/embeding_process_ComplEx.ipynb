{
 "cells": [
  {
   "cell_type": "code",
   "execution_count": 1,
   "id": "877cf67f",
   "metadata": {
    "scrolled": true
   },
   "outputs": [
    {
     "name": "stdout",
     "output_type": "stream",
     "text": [
      "Requirement already satisfied: pandas in c:\\users\\notebook\\miniconda3\\envs\\depa\\lib\\site-packages (1.1.5)Note: you may need to restart the kernel to use updated packages.\n",
      "Requirement already satisfied: numpy>=1.15.4 in c:\\users\\notebook\\miniconda3\\envs\\depa\\lib\\site-packages (from pandas) (1.19.2)\n",
      "Requirement already satisfied: pytz>=2017.2 in c:\\users\\notebook\\miniconda3\\envs\\depa\\lib\\site-packages (from pandas) (2022.1)\n",
      "Requirement already satisfied: python-dateutil>=2.7.3 in c:\\users\\notebook\\miniconda3\\envs\\depa\\lib\\site-packages (from pandas) (2.8.2)\n",
      "Requirement already satisfied: six>=1.5 in c:\\users\\notebook\\miniconda3\\envs\\depa\\lib\\site-packages (from python-dateutil>=2.7.3->pandas) (1.16.0)\n",
      "\n"
     ]
    }
   ],
   "source": [
    "pip install pandas"
   ]
  },
  {
   "cell_type": "code",
   "execution_count": 2,
   "id": "a0b16723",
   "metadata": {},
   "outputs": [
    {
     "name": "stdout",
     "output_type": "stream",
     "text": [
      "Requirement already satisfied: ampligraph in c:\\users\\notebook\\miniconda3\\envs\\depa\\lib\\site-packages (1.4.0)\n",
      "Requirement already satisfied: numpy>=1.14.3 in c:\\users\\notebook\\miniconda3\\envs\\depa\\lib\\site-packages (from ampligraph) (1.19.2)\n",
      "Requirement already satisfied: scipy>=1.3.0 in c:\\users\\notebook\\miniconda3\\envs\\depa\\lib\\site-packages (from ampligraph) (1.5.2)\n",
      "Requirement already satisfied: sphinx<3,>=2.2 in c:\\users\\notebook\\miniconda3\\envs\\depa\\lib\\site-packages (from ampligraph) (2.4.5)\n",
      "Requirement already satisfied: setuptools>=36 in c:\\users\\notebook\\miniconda3\\envs\\depa\\lib\\site-packages (from ampligraph) (58.0.4)\n",
      "Requirement already satisfied: beautifultable>=0.7.0 in c:\\users\\notebook\\miniconda3\\envs\\depa\\lib\\site-packages (from ampligraph) (1.1.0)\n",
      "Requirement already satisfied: pyyaml>=3.13 in c:\\users\\notebook\\miniconda3\\envs\\depa\\lib\\site-packages (from ampligraph) (6.0)\n",
      "Requirement already satisfied: tqdm>=4.23.4 in c:\\users\\notebook\\miniconda3\\envs\\depa\\lib\\site-packages (from ampligraph) (4.64.0)\n",
      "Requirement already satisfied: flake8>=3.7.7 in c:\\users\\notebook\\miniconda3\\envs\\depa\\lib\\site-packages (from ampligraph) (4.0.1)\n",
      "Requirement already satisfied: pandas>=0.23.1 in c:\\users\\notebook\\miniconda3\\envs\\depa\\lib\\site-packages (from ampligraph) (1.1.5)\n",
      "Requirement already satisfied: rdflib>=4.2.2 in c:\\users\\notebook\\miniconda3\\envs\\depa\\lib\\site-packages (from ampligraph) (5.0.0)\n",
      "Requirement already satisfied: networkx>=2.3 in c:\\users\\notebook\\miniconda3\\envs\\depa\\lib\\site-packages (from ampligraph) (2.5.1)\n",
      "Requirement already satisfied: scikit-learn>=0.19.1 in c:\\users\\notebook\\miniconda3\\envs\\depa\\lib\\site-packages (from ampligraph) (0.24.2)\n",
      "Requirement already satisfied: recommonmark==0.4.0 in c:\\users\\notebook\\miniconda3\\envs\\depa\\lib\\site-packages (from ampligraph) (0.4.0)\n",
      "Requirement already satisfied: pytest>=3.5.1 in c:\\users\\notebook\\miniconda3\\envs\\depa\\lib\\site-packages (from ampligraph) (7.0.1)\n",
      "Requirement already satisfied: sphinxcontrib-bibtex==0.4.2 in c:\\users\\notebook\\miniconda3\\envs\\depa\\lib\\site-packages (from ampligraph) (0.4.2)\n",
      "Requirement already satisfied: sphinx-rtd-theme==0.4.3 in c:\\users\\notebook\\miniconda3\\envs\\depa\\lib\\site-packages (from ampligraph) (0.4.3)\n",
      "Requirement already satisfied: commonmark<=0.5.4 in c:\\users\\notebook\\miniconda3\\envs\\depa\\lib\\site-packages (from recommonmark==0.4.0->ampligraph) (0.5.4)\n",
      "Requirement already satisfied: docutils>=0.11 in c:\\users\\notebook\\miniconda3\\envs\\depa\\lib\\site-packages (from recommonmark==0.4.0->ampligraph) (0.17.1)\n",
      "Requirement already satisfied: six>=1.4.1 in c:\\users\\notebook\\miniconda3\\envs\\depa\\lib\\site-packages (from sphinxcontrib-bibtex==0.4.2->ampligraph) (1.16.0)\n",
      "Requirement already satisfied: oset>=0.1.3 in c:\\users\\notebook\\miniconda3\\envs\\depa\\lib\\site-packages (from sphinxcontrib-bibtex==0.4.2->ampligraph) (0.1.3)\n",
      "Requirement already satisfied: pybtex-docutils>=0.2.0 in c:\\users\\notebook\\miniconda3\\envs\\depa\\lib\\site-packages (from sphinxcontrib-bibtex==0.4.2->ampligraph) (1.0.2)\n",
      "Requirement already satisfied: pybtex>=0.20 in c:\\users\\notebook\\miniconda3\\envs\\depa\\lib\\site-packages (from sphinxcontrib-bibtex==0.4.2->ampligraph) (0.24.0)\n",
      "Requirement already satisfied: wcwidth in c:\\users\\notebook\\miniconda3\\envs\\depa\\lib\\site-packages (from beautifultable>=0.7.0->ampligraph) (0.2.5)\n",
      "Requirement already satisfied: pyflakes<2.5.0,>=2.4.0 in c:\\users\\notebook\\miniconda3\\envs\\depa\\lib\\site-packages (from flake8>=3.7.7->ampligraph) (2.4.0)\n",
      "Requirement already satisfied: mccabe<0.7.0,>=0.6.0 in c:\\users\\notebook\\miniconda3\\envs\\depa\\lib\\site-packages (from flake8>=3.7.7->ampligraph) (0.6.1)\n",
      "Requirement already satisfied: pycodestyle<2.9.0,>=2.8.0 in c:\\users\\notebook\\miniconda3\\envs\\depa\\lib\\site-packages (from flake8>=3.7.7->ampligraph) (2.8.0)\n",
      "Requirement already satisfied: importlib-metadata<4.3 in c:\\users\\notebook\\miniconda3\\envs\\depa\\lib\\site-packages (from flake8>=3.7.7->ampligraph) (4.2.0)\n",
      "Requirement already satisfied: typing-extensions>=3.6.4 in c:\\users\\notebook\\miniconda3\\envs\\depa\\lib\\site-packages (from importlib-metadata<4.3->flake8>=3.7.7->ampligraph) (4.1.1)\n",
      "Requirement already satisfied: zipp>=0.5 in c:\\users\\notebook\\miniconda3\\envs\\depa\\lib\\site-packages (from importlib-metadata<4.3->flake8>=3.7.7->ampligraph) (3.6.0)\n",
      "Requirement already satisfied: decorator<5,>=4.3 in c:\\users\\notebook\\miniconda3\\envs\\depa\\lib\\site-packages (from networkx>=2.3->ampligraph) (4.4.2)\n",
      "Requirement already satisfied: pytz>=2017.2 in c:\\users\\notebook\\miniconda3\\envs\\depa\\lib\\site-packages (from pandas>=0.23.1->ampligraph) (2022.1)\n",
      "Requirement already satisfied: python-dateutil>=2.7.3 in c:\\users\\notebook\\miniconda3\\envs\\depa\\lib\\site-packages (from pandas>=0.23.1->ampligraph) (2.8.2)\n",
      "Requirement already satisfied: latexcodec>=1.0.4 in c:\\users\\notebook\\miniconda3\\envs\\depa\\lib\\site-packages (from pybtex>=0.20->sphinxcontrib-bibtex==0.4.2->ampligraph) (2.0.1)\n",
      "Requirement already satisfied: atomicwrites>=1.0 in c:\\users\\notebook\\miniconda3\\envs\\depa\\lib\\site-packages (from pytest>=3.5.1->ampligraph) (1.4.1)\n",
      "Requirement already satisfied: attrs>=19.2.0 in c:\\users\\notebook\\miniconda3\\envs\\depa\\lib\\site-packages (from pytest>=3.5.1->ampligraph) (21.4.0)\n",
      "Requirement already satisfied: colorama in c:\\users\\notebook\\miniconda3\\envs\\depa\\lib\\site-packages (from pytest>=3.5.1->ampligraph) (0.4.4)\n",
      "Requirement already satisfied: iniconfig in c:\\users\\notebook\\miniconda3\\envs\\depa\\lib\\site-packages (from pytest>=3.5.1->ampligraph) (1.1.1)\n",
      "Requirement already satisfied: py>=1.8.2 in c:\\users\\notebook\\miniconda3\\envs\\depa\\lib\\site-packages (from pytest>=3.5.1->ampligraph) (1.11.0)\n",
      "Requirement already satisfied: packaging in c:\\users\\notebook\\miniconda3\\envs\\depa\\lib\\site-packages (from pytest>=3.5.1->ampligraph) (21.3)\n",
      "Requirement already satisfied: pluggy<2.0,>=0.12 in c:\\users\\notebook\\miniconda3\\envs\\depa\\lib\\site-packages (from pytest>=3.5.1->ampligraph) (1.0.0)\n",
      "Requirement already satisfied: tomli>=1.0.0 in c:\\users\\notebook\\miniconda3\\envs\\depa\\lib\\site-packages (from pytest>=3.5.1->ampligraph) (1.2.3)\n",
      "Requirement already satisfied: pyparsing in c:\\users\\notebook\\miniconda3\\envs\\depa\\lib\\site-packages (from rdflib>=4.2.2->ampligraph) (3.0.4)\n",
      "Requirement already satisfied: isodate in c:\\users\\notebook\\miniconda3\\envs\\depa\\lib\\site-packages (from rdflib>=4.2.2->ampligraph) (0.6.1)\n",
      "Requirement already satisfied: joblib>=0.11 in c:\\users\\notebook\\miniconda3\\envs\\depa\\lib\\site-packages (from scikit-learn>=0.19.1->ampligraph) (1.1.0)\n",
      "Requirement already satisfied: threadpoolctl>=2.0.0 in c:\\users\\notebook\\miniconda3\\envs\\depa\\lib\\site-packages (from scikit-learn>=0.19.1->ampligraph) (3.1.0)\n",
      "Requirement already satisfied: sphinxcontrib-devhelp in c:\\users\\notebook\\miniconda3\\envs\\depa\\lib\\site-packages (from sphinx<3,>=2.2->ampligraph) (1.0.2)\n",
      "Requirement already satisfied: sphinxcontrib-applehelp in c:\\users\\notebook\\miniconda3\\envs\\depa\\lib\\site-packages (from sphinx<3,>=2.2->ampligraph) (1.0.2)\n",
      "Requirement already satisfied: babel!=2.0,>=1.3 in c:\\users\\notebook\\miniconda3\\envs\\depa\\lib\\site-packages (from sphinx<3,>=2.2->ampligraph) (2.10.3)\n",
      "Requirement already satisfied: sphinxcontrib-htmlhelp in c:\\users\\notebook\\miniconda3\\envs\\depa\\lib\\site-packages (from sphinx<3,>=2.2->ampligraph) (2.0.0)\n",
      "Requirement already satisfied: Pygments>=2.0 in c:\\users\\notebook\\miniconda3\\envs\\depa\\lib\\site-packages (from sphinx<3,>=2.2->ampligraph) (2.11.2)\n",
      "Requirement already satisfied: sphinxcontrib-jsmath in c:\\users\\notebook\\miniconda3\\envs\\depa\\lib\\site-packages (from sphinx<3,>=2.2->ampligraph) (1.0.1)\n",
      "Requirement already satisfied: snowballstemmer>=1.1 in c:\\users\\notebook\\miniconda3\\envs\\depa\\lib\\site-packages (from sphinx<3,>=2.2->ampligraph) (2.2.0)\n",
      "Requirement already satisfied: imagesize in c:\\users\\notebook\\miniconda3\\envs\\depa\\lib\\site-packages (from sphinx<3,>=2.2->ampligraph) (1.4.1)\n",
      "Requirement already satisfied: Jinja2>=2.3 in c:\\users\\notebook\\miniconda3\\envs\\depa\\lib\\site-packages (from sphinx<3,>=2.2->ampligraph) (3.0.3)\n",
      "Requirement already satisfied: alabaster<0.8,>=0.7 in c:\\users\\notebook\\miniconda3\\envs\\depa\\lib\\site-packages (from sphinx<3,>=2.2->ampligraph) (0.7.12)\n",
      "Requirement already satisfied: sphinxcontrib-serializinghtml in c:\\users\\notebook\\miniconda3\\envs\\depa\\lib\\site-packages (from sphinx<3,>=2.2->ampligraph) (1.1.5)\n",
      "Requirement already satisfied: requests>=2.5.0 in c:\\users\\notebook\\miniconda3\\envs\\depa\\lib\\site-packages (from sphinx<3,>=2.2->ampligraph) (2.27.1)\n",
      "Requirement already satisfied: sphinxcontrib-qthelp in c:\\users\\notebook\\miniconda3\\envs\\depa\\lib\\site-packages (from sphinx<3,>=2.2->ampligraph) (1.0.3)\n",
      "Requirement already satisfied: MarkupSafe>=2.0 in c:\\users\\notebook\\miniconda3\\envs\\depa\\lib\\site-packages (from Jinja2>=2.3->sphinx<3,>=2.2->ampligraph) (2.0.1)\n",
      "Requirement already satisfied: certifi>=2017.4.17 in c:\\users\\notebook\\miniconda3\\envs\\depa\\lib\\site-packages (from requests>=2.5.0->sphinx<3,>=2.2->ampligraph) (2021.5.30)\n",
      "Requirement already satisfied: charset-normalizer~=2.0.0 in c:\\users\\notebook\\miniconda3\\envs\\depa\\lib\\site-packages (from requests>=2.5.0->sphinx<3,>=2.2->ampligraph) (2.0.12)\n",
      "Requirement already satisfied: urllib3<1.27,>=1.21.1 in c:\\users\\notebook\\miniconda3\\envs\\depa\\lib\\site-packages (from requests>=2.5.0->sphinx<3,>=2.2->ampligraph) (1.26.11)\n",
      "Requirement already satisfied: idna<4,>=2.5 in c:\\users\\notebook\\miniconda3\\envs\\depa\\lib\\site-packages (from requests>=2.5.0->sphinx<3,>=2.2->ampligraph) (3.3)\n",
      "Requirement already satisfied: importlib-resources in c:\\users\\notebook\\miniconda3\\envs\\depa\\lib\\site-packages (from tqdm>=4.23.4->ampligraph) (5.4.0)\n",
      "Note: you may need to restart the kernel to use updated packages.\n"
     ]
    }
   ],
   "source": [
    "pip install ampligraph"
   ]
  },
  {
   "cell_type": "code",
   "execution_count": null,
   "id": "262ee9e5",
   "metadata": {},
   "outputs": [],
   "source": []
  },
  {
   "cell_type": "markdown",
   "id": "c4151bdc",
   "metadata": {},
   "source": [
    "## IMPORT"
   ]
  },
  {
   "cell_type": "code",
   "execution_count": 4,
   "id": "1b3e5165",
   "metadata": {
    "scrolled": true
   },
   "outputs": [
    {
     "name": "stderr",
     "output_type": "stream",
     "text": [
      "C:\\Users\\Notebook\\miniconda3\\envs\\depa\\lib\\site-packages\\tensorflow\\python\\framework\\dtypes.py:516: FutureWarning: Passing (type, 1) or '1type' as a synonym of type is deprecated; in a future version of numpy, it will be understood as (type, (1,)) / '(1,)type'.\n",
      "  _np_qint8 = np.dtype([(\"qint8\", np.int8, 1)])\n",
      "C:\\Users\\Notebook\\miniconda3\\envs\\depa\\lib\\site-packages\\tensorflow\\python\\framework\\dtypes.py:517: FutureWarning: Passing (type, 1) or '1type' as a synonym of type is deprecated; in a future version of numpy, it will be understood as (type, (1,)) / '(1,)type'.\n",
      "  _np_quint8 = np.dtype([(\"quint8\", np.uint8, 1)])\n",
      "C:\\Users\\Notebook\\miniconda3\\envs\\depa\\lib\\site-packages\\tensorflow\\python\\framework\\dtypes.py:518: FutureWarning: Passing (type, 1) or '1type' as a synonym of type is deprecated; in a future version of numpy, it will be understood as (type, (1,)) / '(1,)type'.\n",
      "  _np_qint16 = np.dtype([(\"qint16\", np.int16, 1)])\n",
      "C:\\Users\\Notebook\\miniconda3\\envs\\depa\\lib\\site-packages\\tensorflow\\python\\framework\\dtypes.py:519: FutureWarning: Passing (type, 1) or '1type' as a synonym of type is deprecated; in a future version of numpy, it will be understood as (type, (1,)) / '(1,)type'.\n",
      "  _np_quint16 = np.dtype([(\"quint16\", np.uint16, 1)])\n",
      "C:\\Users\\Notebook\\miniconda3\\envs\\depa\\lib\\site-packages\\tensorflow\\python\\framework\\dtypes.py:520: FutureWarning: Passing (type, 1) or '1type' as a synonym of type is deprecated; in a future version of numpy, it will be understood as (type, (1,)) / '(1,)type'.\n",
      "  _np_qint32 = np.dtype([(\"qint32\", np.int32, 1)])\n",
      "C:\\Users\\Notebook\\miniconda3\\envs\\depa\\lib\\site-packages\\tensorflow\\python\\framework\\dtypes.py:525: FutureWarning: Passing (type, 1) or '1type' as a synonym of type is deprecated; in a future version of numpy, it will be understood as (type, (1,)) / '(1,)type'.\n",
      "  np_resource = np.dtype([(\"resource\", np.ubyte, 1)])\n",
      "C:\\Users\\Notebook\\miniconda3\\envs\\depa\\lib\\site-packages\\tensorboard\\compat\\tensorflow_stub\\dtypes.py:541: FutureWarning: Passing (type, 1) or '1type' as a synonym of type is deprecated; in a future version of numpy, it will be understood as (type, (1,)) / '(1,)type'.\n",
      "  _np_qint8 = np.dtype([(\"qint8\", np.int8, 1)])\n",
      "C:\\Users\\Notebook\\miniconda3\\envs\\depa\\lib\\site-packages\\tensorboard\\compat\\tensorflow_stub\\dtypes.py:542: FutureWarning: Passing (type, 1) or '1type' as a synonym of type is deprecated; in a future version of numpy, it will be understood as (type, (1,)) / '(1,)type'.\n",
      "  _np_quint8 = np.dtype([(\"quint8\", np.uint8, 1)])\n",
      "C:\\Users\\Notebook\\miniconda3\\envs\\depa\\lib\\site-packages\\tensorboard\\compat\\tensorflow_stub\\dtypes.py:543: FutureWarning: Passing (type, 1) or '1type' as a synonym of type is deprecated; in a future version of numpy, it will be understood as (type, (1,)) / '(1,)type'.\n",
      "  _np_qint16 = np.dtype([(\"qint16\", np.int16, 1)])\n",
      "C:\\Users\\Notebook\\miniconda3\\envs\\depa\\lib\\site-packages\\tensorboard\\compat\\tensorflow_stub\\dtypes.py:544: FutureWarning: Passing (type, 1) or '1type' as a synonym of type is deprecated; in a future version of numpy, it will be understood as (type, (1,)) / '(1,)type'.\n",
      "  _np_quint16 = np.dtype([(\"quint16\", np.uint16, 1)])\n",
      "C:\\Users\\Notebook\\miniconda3\\envs\\depa\\lib\\site-packages\\tensorboard\\compat\\tensorflow_stub\\dtypes.py:545: FutureWarning: Passing (type, 1) or '1type' as a synonym of type is deprecated; in a future version of numpy, it will be understood as (type, (1,)) / '(1,)type'.\n",
      "  _np_qint32 = np.dtype([(\"qint32\", np.int32, 1)])\n",
      "C:\\Users\\Notebook\\miniconda3\\envs\\depa\\lib\\site-packages\\tensorboard\\compat\\tensorflow_stub\\dtypes.py:550: FutureWarning: Passing (type, 1) or '1type' as a synonym of type is deprecated; in a future version of numpy, it will be understood as (type, (1,)) / '(1,)type'.\n",
      "  np_resource = np.dtype([(\"resource\", np.ubyte, 1)])\n"
     ]
    }
   ],
   "source": [
    "import pymssql\n",
    "import pandas as pd\n",
    "\n",
    "from dateutil.relativedelta import relativedelta\n",
    "\n",
    "import os\n",
    "from os import listdir\n",
    "from os.path import isfile, isdir, join\n",
    "\n",
    "import numpy as np\n",
    "import pandas as pd\n",
    "import os\n",
    "from os import listdir\n",
    "from os.path import isfile, join\n",
    "\n",
    "import ampligraph\n",
    "from ampligraph.datasets import load_from_csv\n",
    "from ampligraph.evaluation import train_test_split_no_unseen\n",
    "from ampligraph.latent_features import ComplEx, HolE, ConvE, TransE\n",
    "from sklearn.model_selection import train_test_split\n",
    "#ampligraph.__version__"
   ]
  },
  {
   "cell_type": "markdown",
   "id": "dcc8d2f7",
   "metadata": {},
   "source": [
    "## PROCESS"
   ]
  },
  {
   "cell_type": "code",
   "execution_count": 5,
   "id": "2541cbc4",
   "metadata": {},
   "outputs": [
    {
     "data": {
      "text/html": [
       "<div>\n",
       "<style scoped>\n",
       "    .dataframe tbody tr th:only-of-type {\n",
       "        vertical-align: middle;\n",
       "    }\n",
       "\n",
       "    .dataframe tbody tr th {\n",
       "        vertical-align: top;\n",
       "    }\n",
       "\n",
       "    .dataframe thead th {\n",
       "        text-align: right;\n",
       "    }\n",
       "</style>\n",
       "<table border=\"1\" class=\"dataframe\">\n",
       "  <thead>\n",
       "    <tr style=\"text-align: right;\">\n",
       "      <th></th>\n",
       "      <th>subject</th>\n",
       "      <th>predicate</th>\n",
       "      <th>object</th>\n",
       "    </tr>\n",
       "  </thead>\n",
       "  <tbody>\n",
       "    <tr>\n",
       "      <th>0</th>\n",
       "      <td>GSM652761</td>\n",
       "      <td>has</td>\n",
       "      <td>current_alco</td>\n",
       "    </tr>\n",
       "    <tr>\n",
       "      <th>1</th>\n",
       "      <td>GSM652762</td>\n",
       "      <td>has</td>\n",
       "      <td>current_alco</td>\n",
       "    </tr>\n",
       "    <tr>\n",
       "      <th>2</th>\n",
       "      <td>GSM652763</td>\n",
       "      <td>has</td>\n",
       "      <td>current_alco</td>\n",
       "    </tr>\n",
       "    <tr>\n",
       "      <th>3</th>\n",
       "      <td>GSM652764</td>\n",
       "      <td>has</td>\n",
       "      <td>never_alco</td>\n",
       "    </tr>\n",
       "    <tr>\n",
       "      <th>4</th>\n",
       "      <td>GSM652765</td>\n",
       "      <td>has</td>\n",
       "      <td>current_alco</td>\n",
       "    </tr>\n",
       "    <tr>\n",
       "      <th>...</th>\n",
       "      <td>...</td>\n",
       "      <td>...</td>\n",
       "      <td>...</td>\n",
       "    </tr>\n",
       "    <tr>\n",
       "      <th>2435</th>\n",
       "      <td>P484</td>\n",
       "      <td>has</td>\n",
       "      <td>no lung cancer_dise</td>\n",
       "    </tr>\n",
       "    <tr>\n",
       "      <th>2436</th>\n",
       "      <td>P485</td>\n",
       "      <td>has</td>\n",
       "      <td>no lung cancer_dise</td>\n",
       "    </tr>\n",
       "    <tr>\n",
       "      <th>2437</th>\n",
       "      <td>P486</td>\n",
       "      <td>has</td>\n",
       "      <td>lung cancer_dise</td>\n",
       "    </tr>\n",
       "    <tr>\n",
       "      <th>2438</th>\n",
       "      <td>P487</td>\n",
       "      <td>has</td>\n",
       "      <td>no lung cancer_dise</td>\n",
       "    </tr>\n",
       "    <tr>\n",
       "      <th>2439</th>\n",
       "      <td>P488</td>\n",
       "      <td>has</td>\n",
       "      <td>no lung cancer_dise</td>\n",
       "    </tr>\n",
       "  </tbody>\n",
       "</table>\n",
       "<p>2440 rows × 3 columns</p>\n",
       "</div>"
      ],
      "text/plain": [
       "        subject predicate               object\n",
       "0     GSM652761       has         current_alco\n",
       "1     GSM652762       has         current_alco\n",
       "2     GSM652763       has         current_alco\n",
       "3     GSM652764       has           never_alco\n",
       "4     GSM652765       has         current_alco\n",
       "...         ...       ...                  ...\n",
       "2435       P484       has  no lung cancer_dise\n",
       "2436       P485       has  no lung cancer_dise\n",
       "2437       P486       has     lung cancer_dise\n",
       "2438       P487       has  no lung cancer_dise\n",
       "2439       P488       has  no lung cancer_dise\n",
       "\n",
       "[2440 rows x 3 columns]"
      ]
     },
     "execution_count": 5,
     "metadata": {},
     "output_type": "execute_result"
    }
   ],
   "source": [
    "test = pd.read_csv('./data/SPO_cancer.csv', header = 0)\n",
    "test"
   ]
  },
  {
   "cell_type": "code",
   "execution_count": 28,
   "id": "9aa29cb5",
   "metadata": {},
   "outputs": [
    {
     "data": {
      "text/plain": [
       "array([['subject', 'predicate', 'object'],\n",
       "       ['GSM652761', 'has', 'current_alco'],\n",
       "       ['GSM652762', 'has', 'current_alco'],\n",
       "       ...,\n",
       "       ['P486', 'has', 'lung cancer_dise'],\n",
       "       ['P487', 'has', 'no lung cancer_dise'],\n",
       "       ['P488', 'has', 'no lung cancer_dise']], dtype=object)"
      ]
     },
     "execution_count": 28,
     "metadata": {},
     "output_type": "execute_result"
    }
   ],
   "source": [
    "#X = load_from_csv('','./data/SPO_cancer.csv', sep=',')\n",
    "#X"
   ]
  },
  {
   "cell_type": "code",
   "execution_count": 30,
   "id": "cdb50b47",
   "metadata": {},
   "outputs": [],
   "source": [
    "X = pd.read_csv('./data/SPO_cancer.csv')\n",
    "#for col in X:\n",
    "#    X[col] = X[col].astype(str)\n",
    "    #X = X.to_numpy()\n",
    "    #X\n",
    "#    X"
   ]
  },
  {
   "cell_type": "code",
   "execution_count": 31,
   "id": "a482e16a",
   "metadata": {},
   "outputs": [
    {
     "data": {
      "text/html": [
       "<div>\n",
       "<style scoped>\n",
       "    .dataframe tbody tr th:only-of-type {\n",
       "        vertical-align: middle;\n",
       "    }\n",
       "\n",
       "    .dataframe tbody tr th {\n",
       "        vertical-align: top;\n",
       "    }\n",
       "\n",
       "    .dataframe thead th {\n",
       "        text-align: right;\n",
       "    }\n",
       "</style>\n",
       "<table border=\"1\" class=\"dataframe\">\n",
       "  <thead>\n",
       "    <tr style=\"text-align: right;\">\n",
       "      <th></th>\n",
       "      <th>subject</th>\n",
       "      <th>predicate</th>\n",
       "      <th>object</th>\n",
       "    </tr>\n",
       "  </thead>\n",
       "  <tbody>\n",
       "  </tbody>\n",
       "</table>\n",
       "</div>"
      ],
      "text/plain": [
       "Empty DataFrame\n",
       "Columns: [subject, predicate, object]\n",
       "Index: []"
      ]
     },
     "execution_count": 31,
     "metadata": {},
     "output_type": "execute_result"
    }
   ],
   "source": [
    "X[X['subject'].apply(lambda x : True if type(x)==float else False)]"
   ]
  },
  {
   "cell_type": "code",
   "execution_count": 32,
   "id": "2644d050",
   "metadata": {},
   "outputs": [
    {
     "data": {
      "text/html": [
       "<div>\n",
       "<style scoped>\n",
       "    .dataframe tbody tr th:only-of-type {\n",
       "        vertical-align: middle;\n",
       "    }\n",
       "\n",
       "    .dataframe tbody tr th {\n",
       "        vertical-align: top;\n",
       "    }\n",
       "\n",
       "    .dataframe thead th {\n",
       "        text-align: right;\n",
       "    }\n",
       "</style>\n",
       "<table border=\"1\" class=\"dataframe\">\n",
       "  <thead>\n",
       "    <tr style=\"text-align: right;\">\n",
       "      <th></th>\n",
       "      <th>subject</th>\n",
       "      <th>predicate</th>\n",
       "      <th>object</th>\n",
       "    </tr>\n",
       "  </thead>\n",
       "  <tbody>\n",
       "  </tbody>\n",
       "</table>\n",
       "</div>"
      ],
      "text/plain": [
       "Empty DataFrame\n",
       "Columns: [subject, predicate, object]\n",
       "Index: []"
      ]
     },
     "execution_count": 32,
     "metadata": {},
     "output_type": "execute_result"
    }
   ],
   "source": [
    "X[X['predicate'].apply(lambda x : True if type(x)==float else False)]"
   ]
  },
  {
   "cell_type": "code",
   "execution_count": 33,
   "id": "435bb195",
   "metadata": {},
   "outputs": [
    {
     "data": {
      "text/html": [
       "<div>\n",
       "<style scoped>\n",
       "    .dataframe tbody tr th:only-of-type {\n",
       "        vertical-align: middle;\n",
       "    }\n",
       "\n",
       "    .dataframe tbody tr th {\n",
       "        vertical-align: top;\n",
       "    }\n",
       "\n",
       "    .dataframe thead th {\n",
       "        text-align: right;\n",
       "    }\n",
       "</style>\n",
       "<table border=\"1\" class=\"dataframe\">\n",
       "  <thead>\n",
       "    <tr style=\"text-align: right;\">\n",
       "      <th></th>\n",
       "      <th>subject</th>\n",
       "      <th>predicate</th>\n",
       "      <th>object</th>\n",
       "    </tr>\n",
       "  </thead>\n",
       "  <tbody>\n",
       "  </tbody>\n",
       "</table>\n",
       "</div>"
      ],
      "text/plain": [
       "Empty DataFrame\n",
       "Columns: [subject, predicate, object]\n",
       "Index: []"
      ]
     },
     "execution_count": 33,
     "metadata": {},
     "output_type": "execute_result"
    }
   ],
   "source": [
    "X[X['object'].apply(lambda x : True if type(x)==float else False)]"
   ]
  },
  {
   "cell_type": "code",
   "execution_count": 34,
   "id": "c4e2d130",
   "metadata": {},
   "outputs": [
    {
     "data": {
      "text/plain": [
       "array([['GSM652761', 'has', 'current_alco'],\n",
       "       ['GSM652762', 'has', 'current_alco'],\n",
       "       ['GSM652763', 'has', 'current_alco'],\n",
       "       ...,\n",
       "       ['P486', 'has', 'lung cancer_dise'],\n",
       "       ['P487', 'has', 'no lung cancer_dise'],\n",
       "       ['P488', 'has', 'no lung cancer_dise']], dtype=object)"
      ]
     },
     "execution_count": 34,
     "metadata": {},
     "output_type": "execute_result"
    }
   ],
   "source": [
    "X = X.to_numpy()\n",
    "X"
   ]
  },
  {
   "cell_type": "code",
   "execution_count": 35,
   "id": "cd24e855",
   "metadata": {},
   "outputs": [],
   "source": [
    "X_train, X_test = train_test_split(X)"
   ]
  },
  {
   "cell_type": "code",
   "execution_count": 37,
   "id": "82d9efd3",
   "metadata": {},
   "outputs": [
    {
     "data": {
      "text/plain": [
       "array([['P288', 'has', '54_age'],\n",
       "       ['Jack Lemmon', 'has', '56_age'],\n",
       "       ['Rex Harrison', 'has', 'current_alco'],\n",
       "       ...,\n",
       "       ['P223', 'has', '46_age'],\n",
       "       ['P240', 'has', 'cardio_dise'],\n",
       "       ['P453', 'has', 'male_gender']], dtype=object)"
      ]
     },
     "execution_count": 37,
     "metadata": {},
     "output_type": "execute_result"
    }
   ],
   "source": [
    "X_test"
   ]
  },
  {
   "cell_type": "code",
   "execution_count": null,
   "id": "22eed101",
   "metadata": {},
   "outputs": [],
   "source": []
  },
  {
   "cell_type": "markdown",
   "id": "305261ba",
   "metadata": {},
   "source": [
    "### unique PREDICATE"
   ]
  },
  {
   "cell_type": "code",
   "execution_count": 38,
   "id": "931a419f",
   "metadata": {},
   "outputs": [
    {
     "data": {
      "text/plain": [
       "array(['has'], dtype=object)"
      ]
     },
     "execution_count": 38,
     "metadata": {},
     "output_type": "execute_result"
    }
   ],
   "source": [
    "relations = np.unique(X[1:, 1])\n",
    "relations"
   ]
  },
  {
   "cell_type": "markdown",
   "id": "cc4db4b4",
   "metadata": {},
   "source": [
    "### train test partition"
   ]
  },
  {
   "cell_type": "code",
   "execution_count": 39,
   "id": "5a691236",
   "metadata": {},
   "outputs": [
    {
     "name": "stdout",
     "output_type": "stream",
     "text": [
      "Train set size:  (1830, 3)\n",
      "Test set size:  (610, 3)\n"
     ]
    }
   ],
   "source": [
    "print('Train set size: ', X_train.shape)\n",
    "print('Test set size: ', X_test.shape)"
   ]
  },
  {
   "cell_type": "markdown",
   "id": "18fe06a0",
   "metadata": {},
   "source": [
    "### define model var"
   ]
  },
  {
   "cell_type": "code",
   "execution_count": 40,
   "id": "5d2d5eaa",
   "metadata": {},
   "outputs": [],
   "source": [
    "model = ComplEx(batches_count=100\n",
    "                ,seed=0,epochs=100\n",
    "                ,k=100\n",
    "                ,eta=5\n",
    "                ,optimizer='adam'\n",
    "                ,optimizer_params={'lr':1e-3}\n",
    "                ,loss='multiclass_nll'\n",
    "                ,regularizer='LP'\n",
    "                ,regularizer_params={'p':3, 'lambda':1e-5}\n",
    "                ,verbose=True)"
   ]
  },
  {
   "cell_type": "code",
   "execution_count": 41,
   "id": "64ec331c",
   "metadata": {},
   "outputs": [],
   "source": [
    "import tensorflow as tf\n",
    "tf.logging.set_verbosity(tf. logging.ERROR)"
   ]
  },
  {
   "cell_type": "markdown",
   "id": "6d846184",
   "metadata": {},
   "source": [
    "### fit model"
   ]
  },
  {
   "cell_type": "code",
   "execution_count": 42,
   "id": "080020b4",
   "metadata": {},
   "outputs": [
    {
     "name": "stderr",
     "output_type": "stream",
     "text": [
      "Average ComplEx Loss:   0.373448: 100%|███████████████████████████████████████████| 100/100 [00:21<00:00,  4.68epoch/s]\n"
     ]
    }
   ],
   "source": [
    "model.fit(X_train, early_stopping = False)"
   ]
  },
  {
   "cell_type": "markdown",
   "id": "91169737",
   "metadata": {},
   "source": [
    "### check"
   ]
  },
  {
   "cell_type": "code",
   "execution_count": 50,
   "id": "c6b7fc42",
   "metadata": {},
   "outputs": [
    {
     "name": "stdout",
     "output_type": "stream",
     "text": [
      "The model is fit!\n"
     ]
    }
   ],
   "source": [
    "from ampligraph.latent_features import save_model, restore_model\n",
    "save_model(model, 'data/best_model.pkl')\n",
    "#del model\n",
    "model = restore_model('data/best_model.pkl')\n",
    "\n",
    "if model.is_fitted:\n",
    "    print('The model is fit!')\n",
    "else:\n",
    "    print('The model is not fit! Did you skip a step?')"
   ]
  },
  {
   "cell_type": "markdown",
   "id": "6937cc5b",
   "metadata": {},
   "source": [
    "### create model folder"
   ]
  },
  {
   "cell_type": "code",
   "execution_count": 52,
   "id": "b5517132",
   "metadata": {},
   "outputs": [],
   "source": [
    "from ampligraph.utils import create_tensorboard_visualizations\n",
    "create_tensorboard_visualizations(model, os.path.join('data', 'ComplEX_06'))"
   ]
  },
  {
   "cell_type": "code",
   "execution_count": 53,
   "id": "a1d43059",
   "metadata": {},
   "outputs": [
    {
     "data": {
      "text/plain": [
       "561"
      ]
     },
     "execution_count": 53,
     "metadata": {},
     "output_type": "execute_result"
    }
   ],
   "source": [
    "len(model.ent_to_idx)"
   ]
  },
  {
   "cell_type": "code",
   "execution_count": 55,
   "id": "504cc5c0",
   "metadata": {},
   "outputs": [
    {
     "name": "stderr",
     "output_type": "stream",
     "text": [
      "-bash: line 2: tensorboard: command not found\n"
     ]
    },
    {
     "ename": "CalledProcessError",
     "evalue": "Command 'b'cd data/ComplEX_06/\\ntensorboard --logdir=./visualizations\\n'' returned non-zero exit status 127.",
     "output_type": "error",
     "traceback": [
      "\u001b[1;31m---------------------------------------------------------------------------\u001b[0m",
      "\u001b[1;31mCalledProcessError\u001b[0m                        Traceback (most recent call last)",
      "\u001b[1;32m<ipython-input-55-f5400fd28bcc>\u001b[0m in \u001b[0;36m<module>\u001b[1;34m\u001b[0m\n\u001b[1;32m----> 1\u001b[1;33m \u001b[0mget_ipython\u001b[0m\u001b[1;33m(\u001b[0m\u001b[1;33m)\u001b[0m\u001b[1;33m.\u001b[0m\u001b[0mrun_cell_magic\u001b[0m\u001b[1;33m(\u001b[0m\u001b[1;34m'bash'\u001b[0m\u001b[1;33m,\u001b[0m \u001b[1;34m''\u001b[0m\u001b[1;33m,\u001b[0m \u001b[1;34m'cd data/ComplEX_06/\\ntensorboard --logdir=./visualizations\\n'\u001b[0m\u001b[1;33m)\u001b[0m\u001b[1;33m\u001b[0m\u001b[1;33m\u001b[0m\u001b[0m\n\u001b[0m",
      "\u001b[1;32m~\\miniconda3\\envs\\depa\\lib\\site-packages\\IPython\\core\\interactiveshell.py\u001b[0m in \u001b[0;36mrun_cell_magic\u001b[1;34m(self, magic_name, line, cell)\u001b[0m\n\u001b[0;32m   2369\u001b[0m             \u001b[1;32mwith\u001b[0m \u001b[0mself\u001b[0m\u001b[1;33m.\u001b[0m\u001b[0mbuiltin_trap\u001b[0m\u001b[1;33m:\u001b[0m\u001b[1;33m\u001b[0m\u001b[1;33m\u001b[0m\u001b[0m\n\u001b[0;32m   2370\u001b[0m                 \u001b[0margs\u001b[0m \u001b[1;33m=\u001b[0m \u001b[1;33m(\u001b[0m\u001b[0mmagic_arg_s\u001b[0m\u001b[1;33m,\u001b[0m \u001b[0mcell\u001b[0m\u001b[1;33m)\u001b[0m\u001b[1;33m\u001b[0m\u001b[1;33m\u001b[0m\u001b[0m\n\u001b[1;32m-> 2371\u001b[1;33m                 \u001b[0mresult\u001b[0m \u001b[1;33m=\u001b[0m \u001b[0mfn\u001b[0m\u001b[1;33m(\u001b[0m\u001b[1;33m*\u001b[0m\u001b[0margs\u001b[0m\u001b[1;33m,\u001b[0m \u001b[1;33m**\u001b[0m\u001b[0mkwargs\u001b[0m\u001b[1;33m)\u001b[0m\u001b[1;33m\u001b[0m\u001b[1;33m\u001b[0m\u001b[0m\n\u001b[0m\u001b[0;32m   2372\u001b[0m             \u001b[1;32mreturn\u001b[0m \u001b[0mresult\u001b[0m\u001b[1;33m\u001b[0m\u001b[1;33m\u001b[0m\u001b[0m\n\u001b[0;32m   2373\u001b[0m \u001b[1;33m\u001b[0m\u001b[0m\n",
      "\u001b[1;32m~\\miniconda3\\envs\\depa\\lib\\site-packages\\IPython\\core\\magics\\script.py\u001b[0m in \u001b[0;36mnamed_script_magic\u001b[1;34m(line, cell)\u001b[0m\n\u001b[0;32m    140\u001b[0m             \u001b[1;32melse\u001b[0m\u001b[1;33m:\u001b[0m\u001b[1;33m\u001b[0m\u001b[1;33m\u001b[0m\u001b[0m\n\u001b[0;32m    141\u001b[0m                 \u001b[0mline\u001b[0m \u001b[1;33m=\u001b[0m \u001b[0mscript\u001b[0m\u001b[1;33m\u001b[0m\u001b[1;33m\u001b[0m\u001b[0m\n\u001b[1;32m--> 142\u001b[1;33m             \u001b[1;32mreturn\u001b[0m \u001b[0mself\u001b[0m\u001b[1;33m.\u001b[0m\u001b[0mshebang\u001b[0m\u001b[1;33m(\u001b[0m\u001b[0mline\u001b[0m\u001b[1;33m,\u001b[0m \u001b[0mcell\u001b[0m\u001b[1;33m)\u001b[0m\u001b[1;33m\u001b[0m\u001b[1;33m\u001b[0m\u001b[0m\n\u001b[0m\u001b[0;32m    143\u001b[0m \u001b[1;33m\u001b[0m\u001b[0m\n\u001b[0;32m    144\u001b[0m         \u001b[1;31m# write a basic docstring:\u001b[0m\u001b[1;33m\u001b[0m\u001b[1;33m\u001b[0m\u001b[1;33m\u001b[0m\u001b[0m\n",
      "\u001b[1;32m<decorator-gen-111>\u001b[0m in \u001b[0;36mshebang\u001b[1;34m(self, line, cell)\u001b[0m\n",
      "\u001b[1;32m~\\miniconda3\\envs\\depa\\lib\\site-packages\\IPython\\core\\magic.py\u001b[0m in \u001b[0;36m<lambda>\u001b[1;34m(f, *a, **k)\u001b[0m\n\u001b[0;32m    185\u001b[0m     \u001b[1;31m# but it's overkill for just that one bit of state.\u001b[0m\u001b[1;33m\u001b[0m\u001b[1;33m\u001b[0m\u001b[1;33m\u001b[0m\u001b[0m\n\u001b[0;32m    186\u001b[0m     \u001b[1;32mdef\u001b[0m \u001b[0mmagic_deco\u001b[0m\u001b[1;33m(\u001b[0m\u001b[0marg\u001b[0m\u001b[1;33m)\u001b[0m\u001b[1;33m:\u001b[0m\u001b[1;33m\u001b[0m\u001b[1;33m\u001b[0m\u001b[0m\n\u001b[1;32m--> 187\u001b[1;33m         \u001b[0mcall\u001b[0m \u001b[1;33m=\u001b[0m \u001b[1;32mlambda\u001b[0m \u001b[0mf\u001b[0m\u001b[1;33m,\u001b[0m \u001b[1;33m*\u001b[0m\u001b[0ma\u001b[0m\u001b[1;33m,\u001b[0m \u001b[1;33m**\u001b[0m\u001b[0mk\u001b[0m\u001b[1;33m:\u001b[0m \u001b[0mf\u001b[0m\u001b[1;33m(\u001b[0m\u001b[1;33m*\u001b[0m\u001b[0ma\u001b[0m\u001b[1;33m,\u001b[0m \u001b[1;33m**\u001b[0m\u001b[0mk\u001b[0m\u001b[1;33m)\u001b[0m\u001b[1;33m\u001b[0m\u001b[1;33m\u001b[0m\u001b[0m\n\u001b[0m\u001b[0;32m    188\u001b[0m \u001b[1;33m\u001b[0m\u001b[0m\n\u001b[0;32m    189\u001b[0m         \u001b[1;32mif\u001b[0m \u001b[0mcallable\u001b[0m\u001b[1;33m(\u001b[0m\u001b[0marg\u001b[0m\u001b[1;33m)\u001b[0m\u001b[1;33m:\u001b[0m\u001b[1;33m\u001b[0m\u001b[1;33m\u001b[0m\u001b[0m\n",
      "\u001b[1;32m~\\miniconda3\\envs\\depa\\lib\\site-packages\\IPython\\core\\magics\\script.py\u001b[0m in \u001b[0;36mshebang\u001b[1;34m(self, line, cell)\u001b[0m\n\u001b[0;32m    243\u001b[0m             \u001b[0msys\u001b[0m\u001b[1;33m.\u001b[0m\u001b[0mstderr\u001b[0m\u001b[1;33m.\u001b[0m\u001b[0mflush\u001b[0m\u001b[1;33m(\u001b[0m\u001b[1;33m)\u001b[0m\u001b[1;33m\u001b[0m\u001b[1;33m\u001b[0m\u001b[0m\n\u001b[0;32m    244\u001b[0m         \u001b[1;32mif\u001b[0m \u001b[0margs\u001b[0m\u001b[1;33m.\u001b[0m\u001b[0mraise_error\u001b[0m \u001b[1;32mand\u001b[0m \u001b[0mp\u001b[0m\u001b[1;33m.\u001b[0m\u001b[0mreturncode\u001b[0m\u001b[1;33m!=\u001b[0m\u001b[1;36m0\u001b[0m\u001b[1;33m:\u001b[0m\u001b[1;33m\u001b[0m\u001b[1;33m\u001b[0m\u001b[0m\n\u001b[1;32m--> 245\u001b[1;33m             \u001b[1;32mraise\u001b[0m \u001b[0mCalledProcessError\u001b[0m\u001b[1;33m(\u001b[0m\u001b[0mp\u001b[0m\u001b[1;33m.\u001b[0m\u001b[0mreturncode\u001b[0m\u001b[1;33m,\u001b[0m \u001b[0mcell\u001b[0m\u001b[1;33m,\u001b[0m \u001b[0moutput\u001b[0m\u001b[1;33m=\u001b[0m\u001b[0mout\u001b[0m\u001b[1;33m,\u001b[0m \u001b[0mstderr\u001b[0m\u001b[1;33m=\u001b[0m\u001b[0merr\u001b[0m\u001b[1;33m)\u001b[0m\u001b[1;33m\u001b[0m\u001b[1;33m\u001b[0m\u001b[0m\n\u001b[0m\u001b[0;32m    246\u001b[0m \u001b[1;33m\u001b[0m\u001b[0m\n\u001b[0;32m    247\u001b[0m     \u001b[1;32mdef\u001b[0m \u001b[0m_run_script\u001b[0m\u001b[1;33m(\u001b[0m\u001b[0mself\u001b[0m\u001b[1;33m,\u001b[0m \u001b[0mp\u001b[0m\u001b[1;33m,\u001b[0m \u001b[0mcell\u001b[0m\u001b[1;33m,\u001b[0m \u001b[0mto_close\u001b[0m\u001b[1;33m)\u001b[0m\u001b[1;33m:\u001b[0m\u001b[1;33m\u001b[0m\u001b[1;33m\u001b[0m\u001b[0m\n",
      "\u001b[1;31mCalledProcessError\u001b[0m: Command 'b'cd data/ComplEX_06/\\ntensorboard --logdir=./visualizations\\n'' returned non-zero exit status 127."
     ]
    }
   ],
   "source": [
    "%%bash\n",
    "cd data/ComplEX_06/\n",
    "tensorboard --logdir=./visualizations"
   ]
  },
  {
   "cell_type": "code",
   "execution_count": null,
   "id": "f62abe91",
   "metadata": {},
   "outputs": [],
   "source": []
  },
  {
   "cell_type": "code",
   "execution_count": null,
   "id": "fa7544a7",
   "metadata": {},
   "outputs": [],
   "source": []
  },
  {
   "cell_type": "code",
   "execution_count": null,
   "id": "3834eea0",
   "metadata": {},
   "outputs": [],
   "source": []
  }
 ],
 "metadata": {
  "kernelspec": {
   "display_name": "Python 3",
   "language": "python",
   "name": "python3"
  },
  "language_info": {
   "codemirror_mode": {
    "name": "ipython",
    "version": 3
   },
   "file_extension": ".py",
   "mimetype": "text/x-python",
   "name": "python",
   "nbconvert_exporter": "python",
   "pygments_lexer": "ipython3",
   "version": "3.6.13"
  }
 },
 "nbformat": 4,
 "nbformat_minor": 5
}
