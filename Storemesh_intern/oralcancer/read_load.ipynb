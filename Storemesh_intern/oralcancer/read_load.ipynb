{
 "cells": [
  {
   "cell_type": "markdown",
   "id": "6eeb2454",
   "metadata": {},
   "source": [
    "## IMPORT"
   ]
  },
  {
   "cell_type": "code",
   "execution_count": null,
   "id": "bf655ed1",
   "metadata": {},
   "outputs": [],
   "source": [
    "import pandas as pd"
   ]
  },
  {
   "cell_type": "code",
   "execution_count": null,
   "id": "a62a8587",
   "metadata": {},
   "outputs": [],
   "source": [
    "df = pd.read_csv('./Dataset_OralCancer - Dataset.csv')\n",
    "df"
   ]
  },
  {
   "cell_type": "markdown",
   "id": "4468fa04",
   "metadata": {},
   "source": [
    "## SPO (Alcohol)"
   ]
  },
  {
   "cell_type": "code",
   "execution_count": null,
   "id": "b343425e",
   "metadata": {
    "scrolled": false
   },
   "outputs": [],
   "source": [
    "df_alco = df[['Name','Alcohol habits']]\n",
    "df_alco['predicate'] = 'has'\n",
    "df_alco = df_alco.rename(columns = {'Name':'subject','Alcohol habits':'object'})\n",
    "df_alco = df_alco[['subject','predicate','object']]\n",
    "df_alco['subject'] = df_alco['subject'].str.replace('\\t',\"\")\n",
    "df_alco['object'] = df_alco['object'].apply(lambda x : f\"{x}_alco\")\n",
    "df_alco"
   ]
  },
  {
   "cell_type": "markdown",
   "id": "93b80f5c",
   "metadata": {},
   "source": [
    "## SPO (Age)"
   ]
  },
  {
   "cell_type": "code",
   "execution_count": null,
   "id": "9443e15d",
   "metadata": {},
   "outputs": [],
   "source": [
    "df_age = df[['Name','Age']]\n",
    "df_age['predicate'] = 'has'\n",
    "df_age= df_age.rename(columns = {'Name':'subject','Age':'object'})\n",
    "df_age = df_age[['subject','predicate','object']]\n",
    "df_age['subject'] = df_age['subject'].str.replace('\\t',\"\")\n",
    "df_age"
   ]
  },
  {
   "cell_type": "code",
   "execution_count": null,
   "id": "b2fc3064",
   "metadata": {},
   "outputs": [],
   "source": [
    "df_age['object'] = df_age['object'].apply(lambda x : f\"{x}_age\")\n",
    "df_age"
   ]
  },
  {
   "cell_type": "markdown",
   "id": "4f1a1b30",
   "metadata": {},
   "source": [
    "## SPO (Gender)"
   ]
  },
  {
   "cell_type": "code",
   "execution_count": null,
   "id": "242c969e",
   "metadata": {},
   "outputs": [],
   "source": [
    "df_gender = df[['Name','Gender']]\n",
    "df_gender['predicate'] = 'has'\n",
    "\n",
    "df_gender= df_gender.rename(columns = {'Name':'subject','Gender':'object'})\n",
    "df_gender = df_gender[['subject','predicate','object']]\n",
    "df_gender['subject'] = df_gender['subject'].str.replace('\\t',\"\")\n",
    "df_gender['object'] = df_gender['object'].apply(lambda x : f\"{x}_gender\")\n",
    "df_gender"
   ]
  },
  {
   "cell_type": "markdown",
   "id": "dfe10e1d",
   "metadata": {},
   "source": [
    "## SPO (Smoke)"
   ]
  },
  {
   "cell_type": "code",
   "execution_count": null,
   "id": "74dc9a22",
   "metadata": {},
   "outputs": [],
   "source": [
    "df_smoke = df[['Name','Smoking habits']]\n",
    "df_smoke['predicate'] = 'has'\n",
    "\n",
    "df_smoke= df_smoke.rename(columns = {'Name':'subject','Smoking habits':'object'})\n",
    "df_smoke = df_smoke[['subject','predicate','object']]\n",
    "df_smoke['subject'] = df_smoke['subject'].str.replace('\\t',\"\")\n",
    "df_smoke['object'] = df_smoke['object'].apply(lambda x : f\"{x}_smoke\")\n",
    "df_smoke"
   ]
  },
  {
   "cell_type": "markdown",
   "id": "fd8d95d1",
   "metadata": {},
   "source": [
    "## SPO (Diseases)"
   ]
  },
  {
   "cell_type": "code",
   "execution_count": null,
   "id": "a0a7f1d0",
   "metadata": {},
   "outputs": [],
   "source": [
    "df_dise = df[['Name','Diseases']]\n",
    "df_dise['predicate'] = 'has'\n",
    "df_dise = df_dise.rename(columns = {'Name':'subject','Diseases':'object'})\n",
    "df_dise = df_dise[['subject','predicate','object']]\n",
    "df_dise['subject'] = df_dise['subject'].str.replace('\\t',\"\")\n",
    "df_dise['object'] = df_dise['object'].apply(lambda x : f\"{x}_dise\")\n",
    "df_dise"
   ]
  },
  {
   "cell_type": "code",
   "execution_count": null,
   "id": "5deda227",
   "metadata": {},
   "outputs": [],
   "source": [
    "df_merged = pd.concat([df_alco,df_smoke,df_age,df_gender,df_dise])\n",
    "df_merged"
   ]
  },
  {
   "cell_type": "code",
   "execution_count": null,
   "id": "79f6be70",
   "metadata": {},
   "outputs": [],
   "source": [
    "df_merged.to_csv('SPO_Cancer.csv' , encoding=\"utf-8\", index=False)"
   ]
  },
  {
   "cell_type": "code",
   "execution_count": null,
   "id": "d5626691",
   "metadata": {},
   "outputs": [],
   "source": []
  }
 ],
 "metadata": {
  "kernelspec": {
   "display_name": "Python 3",
   "language": "python",
   "name": "python3"
  },
  "language_info": {
   "codemirror_mode": {
    "name": "ipython",
    "version": 3
   },
   "file_extension": ".py",
   "mimetype": "text/x-python",
   "name": "python",
   "nbconvert_exporter": "python",
   "pygments_lexer": "ipython3",
   "version": "3.6.13"
  }
 },
 "nbformat": 4,
 "nbformat_minor": 5
}
