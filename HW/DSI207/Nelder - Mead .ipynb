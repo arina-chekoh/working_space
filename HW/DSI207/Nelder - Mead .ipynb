{
 "cells": [
  {
   "cell_type": "code",
   "execution_count": 1,
   "id": "3609abc5",
   "metadata": {},
   "outputs": [],
   "source": [
    "import numpy as np \n",
    "from scipy import optimize"
   ]
  },
  {
   "cell_type": "code",
   "execution_count": 22,
   "id": "2664e01b",
   "metadata": {},
   "outputs": [],
   "source": [
    "def objective(x) :  # x = [x0, x1] \n",
    "    return x[0]**2 + 4*x[0] + x[1]**2 - x[1] - x[0]*x[1]  # z = f(x,y) = x^2 + y^2"
   ]
  },
  {
   "cell_type": "code",
   "execution_count": 36,
   "id": "5070b2b5",
   "metadata": {
    "scrolled": false
   },
   "outputs": [
    {
     "name": "stdout",
     "output_type": "stream",
     "text": [
      "Optimization terminated successfully.\n",
      "         Current function value: -4.333333\n",
      "         Iterations: 87\n",
      "         Function evaluations: 166\n"
     ]
    }
   ],
   "source": [
    "minimum = optimize.minimize(objective, x0=[(0,0)],  method='nelder-mead', \n",
    "                            options={'disp':True, 'return_all':False})"
   ]
  },
  {
   "cell_type": "code",
   "execution_count": 38,
   "id": "4c215bd4",
   "metadata": {},
   "outputs": [
    {
     "data": {
      "text/plain": [
       " final_simplex: (array([[-2.33332314, -0.66664223],\n",
       "       [-2.33334333, -0.66670603],\n",
       "       [-2.33339861, -0.66668723]]), array([-4.33333333, -4.33333333, -4.33333333]))\n",
       "           fun: -4.333333332881498\n",
       "       message: 'Optimization terminated successfully.'\n",
       "          nfev: 166\n",
       "           nit: 87\n",
       "        status: 0\n",
       "       success: True\n",
       "             x: array([-2.33332314, -0.66664223])"
      ]
     },
     "execution_count": 38,
     "metadata": {},
     "output_type": "execute_result"
    }
   ],
   "source": [
    "minimum"
   ]
  },
  {
   "cell_type": "code",
   "execution_count": 28,
   "id": "5e39e4ab",
   "metadata": {},
   "outputs": [],
   "source": [
    "#minimum.allvecs"
   ]
  },
  {
   "cell_type": "code",
   "execution_count": null,
   "id": "d9ab855d",
   "metadata": {},
   "outputs": [],
   "source": []
  }
 ],
 "metadata": {
  "kernelspec": {
   "display_name": "Python 3",
   "language": "python",
   "name": "python3"
  },
  "language_info": {
   "codemirror_mode": {
    "name": "ipython",
    "version": 3
   },
   "file_extension": ".py",
   "mimetype": "text/x-python",
   "name": "python",
   "nbconvert_exporter": "python",
   "pygments_lexer": "ipython3",
   "version": "3.8.8"
  }
 },
 "nbformat": 4,
 "nbformat_minor": 5
}
