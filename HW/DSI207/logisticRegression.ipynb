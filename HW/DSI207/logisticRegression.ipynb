{
 "cells": [
  {
   "cell_type": "code",
   "execution_count": 19,
   "id": "41017b81",
   "metadata": {},
   "outputs": [],
   "source": [
    "import math \n",
    "import numpy as np\n",
    "from sklearn.datasets import make_classification\n",
    "from sklearn.metrics import accuracy_score\n",
    "from sklearn.model_selection import train_test_split"
   ]
  },
  {
   "cell_type": "code",
   "execution_count": 20,
   "id": "bbe69373",
   "metadata": {},
   "outputs": [],
   "source": [
    "def predict_row(row, coef):\n",
    "    linear_sum = coef[-1]  # a_0\n",
    "    for i in range(len(row)):\n",
    "        linear_sum = linear_sum + row[i]*coef[i]\n",
    "    \n",
    "    prob = 1/(1 + math.exp(linear_sum))\n",
    "    \n",
    "    ## if prob = 0.7 --> prob row to be in class '1' is 0.7 \n",
    "    ##               --> class of row should be '1'\n",
    "    \n",
    "    ## if prob = 0.2 --> prob row to be in class '1' is 0.2 \n",
    "    ##               --> class of row should be '0'\n",
    "    \n",
    "    if prob > 0.5:\n",
    "        class_row = 1\n",
    "    else:\n",
    "        class_row = 0\n",
    "    \n",
    "    return class_row\n",
    "        \n",
    "\n",
    "def predict_dataset(X_train, coef):\n",
    "    yhat = []\n",
    "    for row in X_train:\n",
    "        y_app = predict_row(row, coef)\n",
    "        yhat.append(y_app)\n",
    "    return yhat\n",
    "\n",
    "\n",
    "def evaluation(X_train,y_train, coef):\n",
    "    yhat = predict_dataset(X_train, coef)\n",
    "    #print(len(y_train)\n",
    "    ls_y = y_train.tolist()\n",
    "    acc = accuracy_score(ls_y, yhat)\n",
    "    return acc\n",
    "\n",
    "\n",
    "def train(X_train, y_train, n_iter,step_size, n_coef, init_coef):\n",
    "    best_coef = init_coef\n",
    "    best_accuracy = evaluation(X_train,y_train, init_coef)\n",
    "    \n",
    "    for i in range(n_iter):\n",
    "        new_coef = best_coef + step_size*np.random.randn(n_coef)\n",
    "        new_accuracy = evaluation(X_train,y_train, new_coef)\n",
    "        \n",
    "        if  new_accuracy > best_accuracy:\n",
    "            best_coef = new_coef\n",
    "            best_accuracy = new_accuracy\n",
    "        \n",
    "        print(i, best_accuracy)\n",
    "    \n",
    "    return best_coef, best_accuracy\n",
    "            "
   ]
  },
  {
   "cell_type": "code",
   "execution_count": 21,
   "id": "7ffaca98",
   "metadata": {},
   "outputs": [],
   "source": [
    "X, y = make_classification(n_samples = 1000, n_features = 5, n_informative=2, random_state=2)"
   ]
  },
  {
   "cell_type": "code",
   "execution_count": 22,
   "id": "59827650",
   "metadata": {},
   "outputs": [
    {
     "data": {
      "text/plain": [
       "(1000, 5)"
      ]
     },
     "execution_count": 22,
     "metadata": {},
     "output_type": "execute_result"
    }
   ],
   "source": [
    "X.shape"
   ]
  },
  {
   "cell_type": "code",
   "execution_count": 23,
   "id": "28e663db",
   "metadata": {},
   "outputs": [
    {
     "data": {
      "text/plain": [
       "(1000,)"
      ]
     },
     "execution_count": 23,
     "metadata": {},
     "output_type": "execute_result"
    }
   ],
   "source": [
    "y.shape"
   ]
  },
  {
   "cell_type": "code",
   "execution_count": 24,
   "id": "0eaa39eb",
   "metadata": {},
   "outputs": [
    {
     "data": {
      "text/plain": [
       "((800, 5), (200, 5), (800,), (200,))"
      ]
     },
     "execution_count": 24,
     "metadata": {},
     "output_type": "execute_result"
    }
   ],
   "source": [
    "X_train, X_test, y_train, y_test = train_test_split(X, y, test_size=0.2)\n",
    "X_train.shape, X_test.shape, y_train.shape, y_test.shape"
   ]
  },
  {
   "cell_type": "code",
   "execution_count": 25,
   "id": "da020d4c",
   "metadata": {},
   "outputs": [
    {
     "data": {
      "text/plain": [
       "5"
      ]
     },
     "execution_count": 25,
     "metadata": {},
     "output_type": "execute_result"
    }
   ],
   "source": [
    "X_train.shape[1]"
   ]
  },
  {
   "cell_type": "code",
   "execution_count": 26,
   "id": "861d5bea",
   "metadata": {},
   "outputs": [],
   "source": [
    "#initial hyperparameter\n",
    "n_coef = X_train.shape[1] + 1 \n",
    "n_iter = 100\n",
    "step_size = 0.2 "
   ]
  },
  {
   "cell_type": "code",
   "execution_count": 27,
   "id": "a8940ca1",
   "metadata": {
    "scrolled": true
   },
   "outputs": [
    {
     "data": {
      "text/plain": [
       "array([0.18096264, 0.53629165, 0.566158  , 0.22598384, 0.76720752,\n",
       "       0.45167645])"
      ]
     },
     "execution_count": 27,
     "metadata": {},
     "output_type": "execute_result"
    }
   ],
   "source": [
    "#random coeff \n",
    "init_coef = np.random.rand(n_coef)\n",
    "init_coef"
   ]
  },
  {
   "cell_type": "code",
   "execution_count": 28,
   "id": "a7606e15",
   "metadata": {
    "scrolled": true
   },
   "outputs": [
    {
     "name": "stdout",
     "output_type": "stream",
     "text": [
      "0 0.60125\n",
      "1 0.66625\n",
      "2 0.795\n",
      "3 0.795\n",
      "4 0.795\n",
      "5 0.795\n",
      "6 0.82125\n",
      "7 0.82125\n",
      "8 0.82125\n",
      "9 0.82125\n",
      "10 0.8275\n",
      "11 0.8275\n",
      "12 0.85375\n",
      "13 0.86125\n",
      "14 0.89125\n",
      "15 0.89125\n",
      "16 0.89125\n",
      "17 0.89125\n",
      "18 0.89125\n",
      "19 0.89125\n",
      "20 0.89125\n",
      "21 0.89125\n",
      "22 0.89125\n",
      "23 0.8925\n",
      "24 0.8925\n",
      "25 0.8925\n",
      "26 0.8925\n",
      "27 0.8925\n",
      "28 0.8925\n",
      "29 0.8925\n",
      "30 0.8925\n",
      "31 0.8925\n",
      "32 0.8925\n",
      "33 0.8925\n",
      "34 0.89375\n",
      "35 0.89375\n",
      "36 0.89375\n",
      "37 0.89375\n",
      "38 0.89375\n",
      "39 0.89375\n",
      "40 0.89375\n",
      "41 0.89375\n",
      "42 0.895\n",
      "43 0.895\n",
      "44 0.895\n",
      "45 0.895\n",
      "46 0.895\n",
      "47 0.895\n",
      "48 0.895\n",
      "49 0.8975\n",
      "50 0.8975\n",
      "51 0.8975\n",
      "52 0.8975\n",
      "53 0.8975\n",
      "54 0.8975\n",
      "55 0.8975\n",
      "56 0.8975\n",
      "57 0.8975\n",
      "58 0.8975\n",
      "59 0.8975\n",
      "60 0.8975\n",
      "61 0.8975\n",
      "62 0.8975\n",
      "63 0.8975\n",
      "64 0.8975\n",
      "65 0.8975\n",
      "66 0.8975\n",
      "67 0.8975\n",
      "68 0.8975\n",
      "69 0.8975\n",
      "70 0.8975\n",
      "71 0.8975\n",
      "72 0.8975\n",
      "73 0.8975\n",
      "74 0.8975\n",
      "75 0.8975\n",
      "76 0.8975\n",
      "77 0.8975\n",
      "78 0.8975\n",
      "79 0.8975\n",
      "80 0.8975\n",
      "81 0.8975\n",
      "82 0.8975\n",
      "83 0.8975\n",
      "84 0.8975\n",
      "85 0.8975\n",
      "86 0.8975\n",
      "87 0.8975\n",
      "88 0.8975\n",
      "89 0.8975\n",
      "90 0.89875\n",
      "91 0.89875\n",
      "92 0.9\n",
      "93 0.9\n",
      "94 0.9\n",
      "95 0.9\n",
      "96 0.9\n",
      "97 0.9\n",
      "98 0.9\n",
      "99 0.9\n"
     ]
    }
   ],
   "source": [
    "#training\n",
    "best_coef, accuracy_score = train(X_train, y_train, n_iter, step_size, n_coef, init_coef)"
   ]
  },
  {
   "cell_type": "code",
   "execution_count": 29,
   "id": "cd9d613a",
   "metadata": {},
   "outputs": [
    {
     "data": {
      "text/plain": [
       "array([-0.56672137, -0.40243285,  0.06187608,  0.02285569,  0.61519492,\n",
       "       -0.09571669])"
      ]
     },
     "execution_count": 29,
     "metadata": {},
     "output_type": "execute_result"
    }
   ],
   "source": [
    "best_coef"
   ]
  },
  {
   "cell_type": "code",
   "execution_count": 30,
   "id": "ce72d900",
   "metadata": {},
   "outputs": [],
   "source": [
    "y_test_hat = predict_dataset(X_test, best_coef)"
   ]
  },
  {
   "cell_type": "code",
   "execution_count": 31,
   "id": "adb2dc7e",
   "metadata": {},
   "outputs": [
    {
     "data": {
      "text/plain": [
       "0"
      ]
     },
     "execution_count": 31,
     "metadata": {},
     "output_type": "execute_result"
    }
   ],
   "source": [
    "y_test_hat[0]"
   ]
  },
  {
   "cell_type": "code",
   "execution_count": 32,
   "id": "92d47ead",
   "metadata": {},
   "outputs": [],
   "source": [
    "count_correct = 0\n",
    "for i in range(len(y_test_hat)):\n",
    "    if y_test_hat[i] == y_test[i]:\n",
    "        count_correct = count_correct + 1 "
   ]
  },
  {
   "cell_type": "code",
   "execution_count": 33,
   "id": "8a939cfc",
   "metadata": {},
   "outputs": [
    {
     "data": {
      "text/plain": [
       "0.895"
      ]
     },
     "execution_count": 33,
     "metadata": {},
     "output_type": "execute_result"
    }
   ],
   "source": [
    "count_correct/len(y_test_hat)"
   ]
  },
  {
   "cell_type": "code",
   "execution_count": null,
   "id": "b696964e",
   "metadata": {},
   "outputs": [],
   "source": []
  }
 ],
 "metadata": {
  "kernelspec": {
   "display_name": "Python 3",
   "language": "python",
   "name": "python3"
  },
  "language_info": {
   "codemirror_mode": {
    "name": "ipython",
    "version": 3
   },
   "file_extension": ".py",
   "mimetype": "text/x-python",
   "name": "python",
   "nbconvert_exporter": "python",
   "pygments_lexer": "ipython3",
   "version": "3.8.8"
  }
 },
 "nbformat": 4,
 "nbformat_minor": 5
}
