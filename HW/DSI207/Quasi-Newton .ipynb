{
 "cells": [
  {
   "cell_type": "code",
   "execution_count": 5,
   "id": "55683dbf",
   "metadata": {},
   "outputs": [],
   "source": [
    "import numpy as np\n",
    "import matplotlib.pyplot as plt\n",
    "from scipy import optimize"
   ]
  },
  {
   "cell_type": "code",
   "execution_count": 6,
   "id": "602038ab",
   "metadata": {},
   "outputs": [],
   "source": [
    "# f(x) = e^(x-1) + e^(-y+1) + (x-y)^2 "
   ]
  },
  {
   "cell_type": "code",
   "execution_count": 7,
   "id": "60ab04d3",
   "metadata": {},
   "outputs": [],
   "source": [
    "def objective_fn(X):\n",
    "    return np.exp(X[0]-1) + np.exp(-X[1]+1) + (X[0]-X[1])**2"
   ]
  },
  {
   "cell_type": "code",
   "execution_count": 8,
   "id": "e9daba7a",
   "metadata": {},
   "outputs": [
    {
     "ename": "SyntaxError",
     "evalue": "unexpected EOF while parsing (<ipython-input-8-f5b9105404e5>, line 3)",
     "output_type": "error",
     "traceback": [
      "\u001b[1;36m  File \u001b[1;32m\"<ipython-input-8-f5b9105404e5>\"\u001b[1;36m, line \u001b[1;32m3\u001b[0m\n\u001b[1;33m    #return 2แถว 1 col\u001b[0m\n\u001b[1;37m                      ^\u001b[0m\n\u001b[1;31mSyntaxError\u001b[0m\u001b[1;31m:\u001b[0m unexpected EOF while parsing\n"
     ]
    }
   ],
   "source": [
    "def grad_obj(X): #(e^(x-1)+2)\n",
    "    return [np.exp(X[0]-1)+2*[X[0]-X[1]], -np.exp(-X[1]+1)+2*[X[0]-X[1]]  #[f_x, f_y] \n",
    "    #return 2แถว 1 col"
   ]
  },
  {
   "cell_type": "code",
   "execution_count": null,
   "id": "12a0b25e",
   "metadata": {},
   "outputs": [],
   "source": [
    "def hess(X):\n",
    "    return [[np.exp(X[0]-1)+2 , -2], [-2 , np.exp(-X[1]+1)+2]] \n",
    "    #[[F_xx, f_xy] , [f_yx, f_yy]]"
   ]
  },
  {
   "cell_type": "code",
   "execution_count": null,
   "id": "79529a6b",
   "metadata": {},
   "outputs": [],
   "source": [
    "objective_fn([1,1])"
   ]
  },
  {
   "cell_type": "code",
   "execution_count": null,
   "id": "d40d0a6a",
   "metadata": {},
   "outputs": [],
   "source": [
    "grad_obj([0,0])"
   ]
  },
  {
   "cell_type": "code",
   "execution_count": null,
   "id": "c78af389",
   "metadata": {
    "scrolled": true
   },
   "outputs": [],
   "source": [
    "A = hess([0,0])\n",
    "A"
   ]
  },
  {
   "cell_type": "code",
   "execution_count": null,
   "id": "5b8fe13e",
   "metadata": {},
   "outputs": [],
   "source": [
    "inv_A = np.linalg.inv(hess([0,0])) #ช่วย support การทำงาน \n",
    "inv_A"
   ]
  },
  {
   "cell_type": "code",
   "execution_count": null,
   "id": "52bd9336",
   "metadata": {},
   "outputs": [],
   "source": [
    "np.matmul(A, inv_A)"
   ]
  },
  {
   "cell_type": "code",
   "execution_count": null,
   "id": "8ffd7461",
   "metadata": {},
   "outputs": [],
   "source": [
    "## Plot\n",
    "input_x = np.arange(-5, 5, 0.1)\n",
    "input_y = np.arange(-5, 5, 0.1)\n",
    "\n",
    "x,y = np.meshgrid(input_x, input_y)"
   ]
  },
  {
   "cell_type": "code",
   "execution_count": null,
   "id": "cb4f117c",
   "metadata": {
    "scrolled": true
   },
   "outputs": [],
   "source": [
    "#x"
   ]
  },
  {
   "cell_type": "code",
   "execution_count": null,
   "id": "092246df",
   "metadata": {},
   "outputs": [],
   "source": [
    "#y"
   ]
  },
  {
   "cell_type": "code",
   "execution_count": null,
   "id": "f2885e1f",
   "metadata": {},
   "outputs": [],
   "source": [
    "output = []\n",
    "for x in input_x:\n",
    "    o = []\n",
    "    for y in input_y:\n",
    "        o.append(objective_fn([x,y]))\n",
    "    output.append(o)"
   ]
  },
  {
   "cell_type": "code",
   "execution_count": null,
   "id": "c9425cc0",
   "metadata": {},
   "outputs": [],
   "source": [
    "#objective_fn([-5,-4.8])"
   ]
  },
  {
   "cell_type": "code",
   "execution_count": null,
   "id": "a9446938",
   "metadata": {},
   "outputs": [],
   "source": [
    "#output #เก็บค่าแต่ล่ะคู่อันดับใน x,y คู่อันดับของการแทนค่า objective_fn([-5,-4.8])"
   ]
  },
  {
   "cell_type": "code",
   "execution_count": null,
   "id": "a0ffafda",
   "metadata": {},
   "outputs": [],
   "source": [
    "#len(output) , len(input_x), len(input_y)"
   ]
  },
  {
   "cell_type": "code",
   "execution_count": null,
   "id": "22ce857c",
   "metadata": {},
   "outputs": [],
   "source": [
    "len(output), x.shape, y.shape"
   ]
  },
  {
   "cell_type": "code",
   "execution_count": null,
   "id": "697dec26",
   "metadata": {},
   "outputs": [],
   "source": [
    "## Plot\n",
    "input_x = np.arange(-5, 5, 0.1)\n",
    "input_y = np.arange(-5, 5, 0.1)\n",
    "\n",
    "x,y = np.meshgrid(input_x, input_y)"
   ]
  },
  {
   "cell_type": "code",
   "execution_count": null,
   "id": "ef35142d",
   "metadata": {},
   "outputs": [],
   "source": [
    "plt.contour(x, y, np.array(output), 100, cmap = 'jet') #100\n",
    "plt.colorbar()"
   ]
  },
  {
   "cell_type": "code",
   "execution_count": null,
   "id": "802d0788",
   "metadata": {},
   "outputs": [],
   "source": [
    "#GD\n",
    "count = 1 #นับรอบ \n",
    "X_old = [3,3] #จุดเริ่มต้น Initial\n",
    "X_new = X_old - 0.02*np.array(grad_obj(X_old)) \n",
    "print(count, X_new[0], X_new[1], objective_fn(X_new))\n",
    "\n",
    "while np.linalg.norm(X_new - X_old) > 0.005: #xใหม่-เก่า ห่างกันไม่มาก\n",
    "    count = count+1\n",
    "    X_old = X_new\n",
    "    X_new = X_old -0.02*np.array(grad_obj(X_old))\n",
    "    print(count, X_new[0], X_new[1], objective_fn(X_new))"
   ]
  },
  {
   "cell_type": "code",
   "execution_count": null,
   "id": "5803d75b",
   "metadata": {},
   "outputs": [],
   "source": []
  },
  {
   "cell_type": "code",
   "execution_count": null,
   "id": "3b7e95b3",
   "metadata": {},
   "outputs": [],
   "source": []
  }
 ],
 "metadata": {
  "kernelspec": {
   "display_name": "Python 3",
   "language": "python",
   "name": "python3"
  },
  "language_info": {
   "codemirror_mode": {
    "name": "ipython",
    "version": 3
   },
   "file_extension": ".py",
   "mimetype": "text/x-python",
   "name": "python",
   "nbconvert_exporter": "python",
   "pygments_lexer": "ipython3",
   "version": "3.8.8"
  }
 },
 "nbformat": 4,
 "nbformat_minor": 5
}
