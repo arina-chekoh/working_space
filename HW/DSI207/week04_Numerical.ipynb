{
 "cells": [
  {
   "cell_type": "code",
   "execution_count": 4,
   "id": "8bc26a78",
   "metadata": {},
   "outputs": [],
   "source": [
    "import math\n",
    "import matplotlib.pyplot as plt\n",
    "import numpy as np"
   ]
  },
  {
   "cell_type": "code",
   "execution_count": 5,
   "id": "b91de6ca",
   "metadata": {},
   "outputs": [],
   "source": [
    "def f1(x):\n",
    "    return ((x**2)*(-4*x)-4)"
   ]
  },
  {
   "cell_type": "code",
   "execution_count": 6,
   "id": "53940a70",
   "metadata": {},
   "outputs": [],
   "source": [
    "## f1(0.5)"
   ]
  },
  {
   "cell_type": "code",
   "execution_count": 7,
   "id": "5f300648",
   "metadata": {},
   "outputs": [],
   "source": [
    "### Plot graph\n",
    "x_point = np.arange(-0.3,5,0.001)\n",
    "y_point = np.zeros_like(x_point)\n",
    "\n",
    "for i in range(len(x_point)):\n",
    "    y_point[i] = f1(x_point[i]) ## x(-1) เป็นการหาค่ากลับจากสูวสุดเป็นต่ำสุด"
   ]
  },
  {
   "cell_type": "code",
   "execution_count": 8,
   "id": "d45bf932",
   "metadata": {},
   "outputs": [],
   "source": [
    "## x_point.shape , y_point.shape\n",
    " #   x_point \n",
    " #   y_point\n",
    "\n"
   ]
  },
  {
   "cell_type": "code",
   "execution_count": 9,
   "id": "fcb70962",
   "metadata": {},
   "outputs": [],
   "source": [
    "## x_point[0:5] , y_point[0:6]"
   ]
  },
  {
   "cell_type": "code",
   "execution_count": 10,
   "id": "2c63265b",
   "metadata": {},
   "outputs": [
    {
     "data": {
      "text/plain": [
       "[<matplotlib.lines.Line2D at 0x264e565d1f0>]"
      ]
     },
     "execution_count": 10,
     "metadata": {},
     "output_type": "execute_result"
    },
    {
     "data": {
      "image/png": "[encoded data removed]",
      "text/plain": [
       "<Figure size 432x288 with 1 Axes>"
      ]
     },
     "metadata": {
      "needs_background": "light"
     },
     "output_type": "display_data"
    }
   ],
   "source": [
    "fig, ax = plt.subplots()\n",
    "ax.plot(x_point, y_point)"
   ]
  },
  {
   "cell_type": "code",
   "execution_count": 11,
   "id": "197c2c8c",
   "metadata": {},
   "outputs": [],
   "source": [
    "goldenRatio = 0.618"
   ]
  },
  {
   "cell_type": "code",
   "execution_count": 12,
   "id": "7884d3a7",
   "metadata": {},
   "outputs": [],
   "source": [
    "a = 0\n",
    "b = 3\n",
    "L = b-a\n",
    "ep = 1e-9"
   ]
  },
  {
   "cell_type": "code",
   "execution_count": 13,
   "id": "e06ccafc",
   "metadata": {},
   "outputs": [],
   "source": [
    "## Numerical Method\n",
    "while b-a > ep:\n",
    "    ## shift b\n",
    "    x_1 = b - goldenRatio*L\n",
    "    \n",
    "    ## shift a \n",
    "    x_2 = a + goldenRatio*L\n",
    "    \n",
    "    if f1(x_1) <= f1(x_2):  ## หาจุดต่ำสุด แต่ถ้าสูงสุดจะเลื่อนสลับ a กับ b / คูณ -1\n",
    "        b = x_2\n",
    "    else:\n",
    "        a = x_1\n",
    "        \n",
    "    L = b-a"
   ]
  },
  {
   "cell_type": "code",
   "execution_count": 14,
   "id": "553820a9",
   "metadata": {
    "scrolled": true
   },
   "outputs": [
    {
     "data": {
      "text/plain": [
       "(2.999999999271229, 3)"
      ]
     },
     "execution_count": 14,
     "metadata": {},
     "output_type": "execute_result"
    }
   ],
   "source": [
    "a, b"
   ]
  },
  {
   "cell_type": "code",
   "execution_count": null,
   "id": "4479740d",
   "metadata": {},
   "outputs": [],
   "source": []
  },
  {
   "cell_type": "code",
   "execution_count": 16,
   "id": "42ccd14e",
   "metadata": {},
   "outputs": [],
   "source": [
    "from scipy import optimize"
   ]
  },
  {
   "cell_type": "code",
   "execution_count": 17,
   "id": "470b5823",
   "metadata": {},
   "outputs": [
    {
     "data": {
      "text/plain": [
       "3.555373187108462e+102"
      ]
     },
     "execution_count": 17,
     "metadata": {},
     "output_type": "execute_result"
    }
   ],
   "source": [
    "optimize.golden(f1, brack=(0, 3))\n",
    "## ค่าที่ได้คือค่า..? ทำไมได้ค่าเดียว"
   ]
  },
  {
   "cell_type": "code",
   "execution_count": null,
   "id": "0e82bba5",
   "metadata": {},
   "outputs": [],
   "source": []
  }
 ],
 "metadata": {
  "kernelspec": {
   "display_name": "Python 3",
   "language": "python",
   "name": "python3"
  },
  "language_info": {
   "codemirror_mode": {
    "name": "ipython",
    "version": 3
   },
   "file_extension": ".py",
   "mimetype": "text/x-python",
   "name": "python",
   "nbconvert_exporter": "python",
   "pygments_lexer": "ipython3",
   "version": "3.8.8"
  }
 },
 "nbformat": 4,
 "nbformat_minor": 5
}
