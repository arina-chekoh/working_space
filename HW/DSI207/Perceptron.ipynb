{
 "cells": [
  {
   "cell_type": "code",
   "execution_count": 17,
   "id": "584ba2ba",
   "metadata": {},
   "outputs": [],
   "source": [
    "import math\n",
    "import numpy as np\n",
    "from sklearn.datasets import make_classification\n",
    "from sklearn.metrics import accuracy_score\n",
    "from sklearn.model_selection import train_test_split"
   ]
  },
  {
   "cell_type": "code",
   "execution_count": 56,
   "id": "c598d687",
   "metadata": {},
   "outputs": [],
   "source": [
    "# logistic regression\n",
    "def activate_function(value):\n",
    " \n",
    "    # binary step\n",
    "    \"\"\"\"\n",
    "    if value >= 0:\n",
    "        c=1\n",
    "    else:\n",
    "        c=0\n",
    "    \"\"\"\"\n",
    "        \n",
    "    # tanh    \n",
    "    z = (2/(1+np.exp(-2*value))) -1 \n",
    "    c = 0\n",
    "    if z >= 0:\n",
    "        c = 1\n",
    "    else:\n",
    "        c < 0 \n",
    "        \n",
    "    return c\n",
    "\n",
    "\n",
    "def predict_row(row, coefficients):\n",
    "    # add the bias, the last coefficient\n",
    "    result = coefficients[-1]\n",
    "    # add the weighted input\n",
    "    for i in range(len(row)):\n",
    "        result += coefficients[i] * row[i]\n",
    "    predicted_class = activate_function(result)   \n",
    "    return predicted_class\n",
    "\n",
    "\n",
    "\n",
    "# use model coefficients to generate predictions for a dataset of rows\n",
    "def predict_dataset(X, coefficients):\n",
    "    yhats = list()\n",
    "    for row in X:\n",
    "        # make a prediction\n",
    "        yhat = predict_row(row, coefficients)\n",
    "        # store the prediction\n",
    "        yhats.append(yhat)\n",
    "    return yhats\n",
    "\n",
    "\n",
    "\n",
    "# objective function\n",
    "def objective(X, y, coefficients):\n",
    "    # generate predictions for dataset\n",
    "    yhat = predict_dataset(X, coefficients)\n",
    "    \n",
    "    # round predictions to labels\n",
    "    yhat = [round(y) for y in yhat]\n",
    "    \n",
    "    # calculate accuracy\n",
    "    score = accuracy_score(y, yhat)\n",
    "    \n",
    "    return score\n",
    "\n",
    "\n",
    "\n",
    "# hill climbing local search algorithm\n",
    "def hillclimbing(X, y, objective, solution, n_iter, step_size):\n",
    "    # evaluate the initial point\n",
    "    solution_eval = objective(X, y, solution)\n",
    "    \n",
    "    # run the hill climb\n",
    "    for i in range(n_iter):\n",
    "        # take a step\n",
    "        candidate = solution + np.random.randn(len(solution)) * step_size\n",
    "        # evaluate candidate point\n",
    "        candidte_eval = objective(X, y, candidate)\n",
    "        # check if we should keep the new point\n",
    "        if candidte_eval >= solution_eval:\n",
    "            # store the new point\n",
    "            solution, solution_eval = candidate, candidte_eval\n",
    "            # report progress\n",
    "            print('>%d %.5f' % (i, solution_eval))\n",
    "    return [solution, solution_eval]\n"
   ]
  },
  {
   "cell_type": "code",
   "execution_count": null,
   "id": "9fccdf4e",
   "metadata": {},
   "outputs": [],
   "source": []
  },
  {
   "cell_type": "code",
   "execution_count": 57,
   "id": "6201fc58",
   "metadata": {},
   "outputs": [],
   "source": [
    "X, y = make_classification(n_samples= 1000, n_features= 5, n_informative=2,n_redundant=1, random_state=2)\n",
    "X_train, X_test, y_train, y_test = train_test_split(X, y, test_size=0.2)"
   ]
  },
  {
   "cell_type": "code",
   "execution_count": 58,
   "id": "922fd270",
   "metadata": {},
   "outputs": [
    {
     "data": {
      "text/plain": [
       "((800, 5), (200, 5), (800,), (200,))"
      ]
     },
     "execution_count": 58,
     "metadata": {},
     "output_type": "execute_result"
    }
   ],
   "source": [
    "X_train.shape, X_test.shape, y_train.shape, y_test.shape"
   ]
  },
  {
   "cell_type": "code",
   "execution_count": 59,
   "id": "5bb3cbf7",
   "metadata": {},
   "outputs": [],
   "source": [
    "#y_train"
   ]
  },
  {
   "cell_type": "code",
   "execution_count": 60,
   "id": "cd600690",
   "metadata": {},
   "outputs": [],
   "source": [
    "# determine the number of coefficients\n",
    "n_coeff = X.shape[1] + 1"
   ]
  },
  {
   "cell_type": "code",
   "execution_count": 66,
   "id": "5d573c4c",
   "metadata": {},
   "outputs": [],
   "source": [
    "# random coefficients\n",
    "initial_cof = np.random.rand(n_coeff)\n",
    "\n",
    "n_iter = 100\n",
    "step_size = 0.2 "
   ]
  },
  {
   "cell_type": "code",
   "execution_count": 67,
   "id": "3ca32f6c",
   "metadata": {},
   "outputs": [
    {
     "name": "stdout",
     "output_type": "stream",
     "text": [
      ">3 0.63625\n",
      ">5 0.68125\n",
      ">6 0.68750\n",
      ">7 0.71500\n",
      ">8 0.73750\n",
      ">10 0.74250\n",
      ">11 0.75750\n",
      ">14 0.80500\n",
      ">16 0.83750\n",
      ">17 0.84875\n",
      ">22 0.86125\n",
      ">30 0.87125\n",
      ">36 0.89625\n",
      ">51 0.89750\n",
      ">55 0.90625\n"
     ]
    }
   ],
   "source": [
    "coefficients, score = hillclimbing(X_train, y_train, objective, initial_cof, n_iter, step_size)"
   ]
  },
  {
   "cell_type": "code",
   "execution_count": 68,
   "id": "5ad5d54a",
   "metadata": {},
   "outputs": [],
   "source": [
    "yhat = predict_dataset(X_test, coefficients)"
   ]
  },
  {
   "cell_type": "code",
   "execution_count": 69,
   "id": "466b7eff",
   "metadata": {},
   "outputs": [],
   "source": [
    "#yhat = [round(y) for y is yhat]"
   ]
  },
  {
   "cell_type": "code",
   "execution_count": 70,
   "id": "c436fde0",
   "metadata": {},
   "outputs": [
    {
     "name": "stdout",
     "output_type": "stream",
     "text": [
      "Accuracy: 0.850000\n"
     ]
    }
   ],
   "source": [
    "# calculate accuracy \n",
    "score = accuracy_score(y_test, yhat)\n",
    "print('Accuracy: %f' % score )"
   ]
  },
  {
   "cell_type": "code",
   "execution_count": null,
   "id": "7eefb9f6",
   "metadata": {},
   "outputs": [],
   "source": []
  }
 ],
 "metadata": {
  "kernelspec": {
   "display_name": "Python 3",
   "language": "python",
   "name": "python3"
  },
  "language_info": {
   "codemirror_mode": {
    "name": "ipython",
    "version": 3
   },
   "file_extension": ".py",
   "mimetype": "text/x-python",
   "name": "python",
   "nbconvert_exporter": "python",
   "pygments_lexer": "ipython3",
   "version": "3.8.8"
  }
 },
 "nbformat": 4,
 "nbformat_minor": 5
}
