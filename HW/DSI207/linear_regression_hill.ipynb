{
 "cells": [
  {
   "cell_type": "code",
   "execution_count": 26,
   "id": "0b0a75f0",
   "metadata": {},
   "outputs": [],
   "source": [
    "import numpy as np\n",
    "from sklearn.metrics import mean_squared_error\n",
    "from sklearn.datasets import make_regression\n",
    "from sklearn.model_selection import train_test_split"
   ]
  },
  {
   "cell_type": "code",
   "execution_count": 27,
   "id": "4716d1cc",
   "metadata": {},
   "outputs": [],
   "source": [
    "X, y = make_regression(n_samples =100, n_features = 10, noise = 0.2, random_state =2)"
   ]
  },
  {
   "cell_type": "code",
   "execution_count": 28,
   "id": "ec1d19fb",
   "metadata": {},
   "outputs": [],
   "source": [
    "X_tr, X_test, y_tr, y_test = train_test_split(X, y, test_size=20)"
   ]
  },
  {
   "cell_type": "code",
   "execution_count": 29,
   "id": "398e2353",
   "metadata": {},
   "outputs": [
    {
     "data": {
      "text/plain": [
       "((80, 10), (20, 10))"
      ]
     },
     "execution_count": 29,
     "metadata": {},
     "output_type": "execute_result"
    }
   ],
   "source": [
    "X_tr.shape, X_test.shape"
   ]
  },
  {
   "cell_type": "code",
   "execution_count": 35,
   "id": "7f0bfaa6",
   "metadata": {},
   "outputs": [],
   "source": [
    "def calculate_row(row, coef):\n",
    "    result = coef[-1]\n",
    "    \n",
    "    for i in range(len(row)):\n",
    "        result = result + row[i]*coef[i]\n",
    "        \n",
    "    return result\n",
    "\n",
    "def calculate_dataset(X, coef):\n",
    "    ls_y_appr = list()\n",
    "     \n",
    "    for row in X:\n",
    "        y_app = calculate_row(row, coef)\n",
    "        ls_y_appr.append(y_app)\n",
    "    return ls_y_appr\n",
    "\n",
    "def calculate_error(X, y, coef):\n",
    "    y_hat = calculate_dataset(X, coef)\n",
    "    error_score = mean_squared_error(y_hat, y)\n",
    "    return error_score\n",
    "\n",
    "def hillclimbing(X_train, y_train, n_iter, ini_coef):\n",
    "    old_coef = ini_coef\n",
    "    \n",
    "    #error ครั้งแรก \n",
    "    old_error = calculate_error(X_train, y_train, ini_coef)\n",
    "    \n",
    "    for i in range(n_iter): \n",
    "        new_coef = old_coef + 0.3*np.random.randn(X_train.shape[1]+1)\n",
    "        new_error = calculate_error(X_train, y_train, new_coef)\n",
    "        \n",
    "        if new_error < old_error:\n",
    "            old_coef = new_coef \n",
    "            print(new_error)\n",
    "            \n",
    "        return old_coef\n",
    "            "
   ]
  },
  {
   "cell_type": "code",
   "execution_count": 36,
   "id": "fab1634d",
   "metadata": {},
   "outputs": [
    {
     "data": {
      "text/plain": [
       "array([0.29905105, 0.7453725 , 0.99780687, 0.32465456, 0.7560671 ,\n",
       "       0.51405364, 0.62025141, 0.37856611, 0.89056453, 0.93644748,\n",
       "       0.22226265])"
      ]
     },
     "execution_count": 36,
     "metadata": {},
     "output_type": "execute_result"
    }
   ],
   "source": [
    "ini_coef = np.random.rand(X_tr.shape[1]+1)\n",
    "ini_coef"
   ]
  },
  {
   "cell_type": "code",
   "execution_count": 37,
   "id": "1049345c",
   "metadata": {},
   "outputs": [],
   "source": [
    "best_coef = hillclimbing(X_tr, y_tr, 100, ini_coef)"
   ]
  },
  {
   "cell_type": "code",
   "execution_count": 38,
   "id": "b367bb88",
   "metadata": {},
   "outputs": [
    {
     "data": {
      "text/plain": [
       "array([0.29905105, 0.7453725 , 0.99780687, 0.32465456, 0.7560671 ,\n",
       "       0.51405364, 0.62025141, 0.37856611, 0.89056453, 0.93644748,\n",
       "       0.22226265])"
      ]
     },
     "execution_count": 38,
     "metadata": {},
     "output_type": "execute_result"
    }
   ],
   "source": [
    "best_coef"
   ]
  },
  {
   "cell_type": "code",
   "execution_count": 34,
   "id": "6361da4d",
   "metadata": {},
   "outputs": [
    {
     "data": {
      "text/plain": [
       "36853.259426605204"
      ]
     },
     "execution_count": 34,
     "metadata": {},
     "output_type": "execute_result"
    }
   ],
   "source": [
    "calculate_error(X_test, y_test, best_coef)"
   ]
  },
  {
   "cell_type": "code",
   "execution_count": null,
   "id": "10a839a3",
   "metadata": {},
   "outputs": [],
   "source": []
  }
 ],
 "metadata": {
  "kernelspec": {
   "display_name": "Python 3",
   "language": "python",
   "name": "python3"
  },
  "language_info": {
   "codemirror_mode": {
    "name": "ipython",
    "version": 3
   },
   "file_extension": ".py",
   "mimetype": "text/x-python",
   "name": "python",
   "nbconvert_exporter": "python",
   "pygments_lexer": "ipython3",
   "version": "3.8.8"
  }
 },
 "nbformat": 4,
 "nbformat_minor": 5
}
