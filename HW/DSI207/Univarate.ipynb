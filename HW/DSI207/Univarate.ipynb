{
 "cells": [
  {
   "cell_type": "code",
   "execution_count": 2,
   "id": "eae39f46",
   "metadata": {},
   "outputs": [],
   "source": [
    "import numpy as np \n",
    "import matplotlib.pyplot as plt\n",
    "import scipy\n",
    "from scipy import optimize "
   ]
  },
  {
   "cell_type": "code",
   "execution_count": 3,
   "id": "9110d2e8",
   "metadata": {},
   "outputs": [],
   "source": [
    "def objective_1(x): #convex func\n",
    "    return (5*x)**2 "
   ]
  },
  {
   "cell_type": "code",
   "execution_count": 6,
   "id": "6547a268",
   "metadata": {},
   "outputs": [
    {
     "data": {
      "text/plain": [
       "(100, 2.25, 25)"
      ]
     },
     "execution_count": 6,
     "metadata": {},
     "output_type": "execute_result"
    }
   ],
   "source": [
    "x1 = -2\n",
    "x2 = 0.3\n",
    "x3 = 1 \n",
    "objective_1(x1) , objective_1(x2), objective_1(x3)"
   ]
  },
  {
   "cell_type": "code",
   "execution_count": 9,
   "id": "4b3ce4fd",
   "metadata": {},
   "outputs": [],
   "source": [
    "min_value = optimize.brent(objective_1, brack=(x1, x2, x3), full_output = True)"
   ]
  },
  {
   "cell_type": "code",
   "execution_count": 11,
   "id": "86583b87",
   "metadata": {},
   "outputs": [
    {
     "data": {
      "text/plain": [
       "(-2.7755575615628914e-17, 1.9259299443872359e-32, 5, 9)"
      ]
     },
     "execution_count": 11,
     "metadata": {},
     "output_type": "execute_result"
    }
   ],
   "source": [
    "min_value"
   ]
  },
  {
   "cell_type": "code",
   "execution_count": null,
   "id": "d987fa52",
   "metadata": {},
   "outputs": [],
   "source": []
  },
  {
   "cell_type": "code",
   "execution_count": 14,
   "id": "d66cc09a",
   "metadata": {},
   "outputs": [
    {
     "data": {
      "text/plain": [
       "     fun: 1.9259299443872359e-32\n",
       "    nfev: 9\n",
       "     nit: 5\n",
       " success: True\n",
       "       x: -2.7755575615628914e-17"
      ]
     },
     "execution_count": 14,
     "metadata": {},
     "output_type": "execute_result"
    }
   ],
   "source": [
    "scipy.optimize.minimize_scalar(objective_1, bracket=(x1, x2, x3), method='brent')"
   ]
  },
  {
   "cell_type": "code",
   "execution_count": 15,
   "id": "97d8ae62",
   "metadata": {},
   "outputs": [],
   "source": [
    "### plot graph\n",
    "input_x = np.arange(-3,3,0.1)\n",
    "output_y = [objective_1(x) for x in input_x]"
   ]
  },
  {
   "cell_type": "code",
   "execution_count": 18,
   "id": "5a6459d6",
   "metadata": {},
   "outputs": [],
   "source": [
    "#input_x"
   ]
  },
  {
   "cell_type": "code",
   "execution_count": 19,
   "id": "37cd17d7",
   "metadata": {},
   "outputs": [],
   "source": [
    "#output_y"
   ]
  },
  {
   "cell_type": "code",
   "execution_count": 20,
   "id": "bc7b4ae7",
   "metadata": {},
   "outputs": [
    {
     "data": {
      "text/plain": [
       "[<matplotlib.lines.Line2D at 0x2cbff83d8e0>]"
      ]
     },
     "execution_count": 20,
     "metadata": {},
     "output_type": "execute_result"
    },
    {
     "data": {
      "image/png": "[encoded data removed]",
      "text/plain": [
       "<Figure size 432x288 with 1 Axes>"
      ]
     },
     "metadata": {
      "needs_background": "light"
     },
     "output_type": "display_data"
    }
   ],
   "source": [
    "plt.plot(input_x, output_y)"
   ]
  },
  {
   "cell_type": "markdown",
   "id": "8843e5f2",
   "metadata": {},
   "source": [
    "# Ex 2"
   ]
  },
  {
   "cell_type": "code",
   "execution_count": 25,
   "id": "9f095dcc",
   "metadata": {},
   "outputs": [],
   "source": [
    "# Non-convex\n",
    "def objective_2(x):        \n",
    "    return (x-2)*x*(x+2)**2"
   ]
  },
  {
   "cell_type": "code",
   "execution_count": 26,
   "id": "31704530",
   "metadata": {},
   "outputs": [
    {
     "data": {
      "text/plain": [
       "[<matplotlib.lines.Line2D at 0x2cbff69d3d0>]"
      ]
     },
     "execution_count": 26,
     "metadata": {},
     "output_type": "execute_result"
    },
    {
     "data": {
      "image/png": "[encoded data removed]",
      "text/plain": [
       "<Figure size 432x288 with 1 Axes>"
      ]
     },
     "metadata": {
      "needs_background": "light"
     },
     "output_type": "display_data"
    }
   ],
   "source": [
    "### plot graph\n",
    "input_x = np.arange(-3,2,0.1)\n",
    "output_y = [objective_2(x) for x in input_x]\n",
    "plt.plot(input_x, output_y)"
   ]
  },
  {
   "cell_type": "code",
   "execution_count": 28,
   "id": "65d679bd",
   "metadata": {},
   "outputs": [
    {
     "data": {
      "text/plain": [
       "(2.8125, 0.08610000000000015, 1.3125)"
      ]
     },
     "execution_count": 28,
     "metadata": {},
     "output_type": "execute_result"
    }
   ],
   "source": [
    "# non-global\n",
    "x1 = -2.5\n",
    "x2 = -2.1\n",
    "x3 = -1.5\n",
    "objective_2(x1) , objective_2(x2), objective_2(x3)"
   ]
  },
  {
   "cell_type": "code",
   "execution_count": 29,
   "id": "fe82a481",
   "metadata": {},
   "outputs": [],
   "source": [
    "min_value = optimize.brent(objective_2, brack=(x1, x2, x3), full_output = True)"
   ]
  },
  {
   "cell_type": "code",
   "execution_count": 30,
   "id": "c7414455",
   "metadata": {},
   "outputs": [
    {
     "data": {
      "text/plain": [
       "(-1.999999997863834, 3.650563833013277e-17, 10, 14)"
      ]
     },
     "execution_count": 30,
     "metadata": {},
     "output_type": "execute_result"
    }
   ],
   "source": [
    "min_value"
   ]
  },
  {
   "cell_type": "code",
   "execution_count": 35,
   "id": "450bdef2",
   "metadata": {},
   "outputs": [
    {
     "data": {
      "text/plain": [
       "(-9, -9.513900000000001, -9.1875)"
      ]
     },
     "execution_count": 35,
     "metadata": {},
     "output_type": "execute_result"
    }
   ],
   "source": [
    "# global min \n",
    "x1 = 1\n",
    "x2 = 1.1\n",
    "x3 = 1.5\n",
    "objective_2(x1) , objective_2(x2), objective_2(x3)"
   ]
  },
  {
   "cell_type": "code",
   "execution_count": 36,
   "id": "b40553d3",
   "metadata": {},
   "outputs": [],
   "source": [
    "min_value = optimize.brent(objective_2, brack=(x1, x2, x3), full_output = True)"
   ]
  },
  {
   "cell_type": "code",
   "execution_count": 37,
   "id": "97eab271",
   "metadata": {},
   "outputs": [
    {
     "data": {
      "text/plain": [
       "(1.28077640335862, -9.914949590828146, 9, 13)"
      ]
     },
     "execution_count": 37,
     "metadata": {},
     "output_type": "execute_result"
    }
   ],
   "source": [
    "min_value"
   ]
  },
  {
   "cell_type": "code",
   "execution_count": 38,
   "id": "803b8771",
   "metadata": {},
   "outputs": [],
   "source": [
    "min_value = optimize.brent(objective_2, brack=(x1, x2), full_output = True)"
   ]
  },
  {
   "cell_type": "code",
   "execution_count": 39,
   "id": "b6e26c06",
   "metadata": {},
   "outputs": [
    {
     "data": {
      "text/plain": [
       "(1.2807764059508118, -9.914949590828147, 9, 14)"
      ]
     },
     "execution_count": 39,
     "metadata": {},
     "output_type": "execute_result"
    }
   ],
   "source": [
    "min_value"
   ]
  },
  {
   "cell_type": "code",
   "execution_count": null,
   "id": "bf21d38d",
   "metadata": {},
   "outputs": [],
   "source": []
  }
 ],
 "metadata": {
  "kernelspec": {
   "display_name": "Python 3",
   "language": "python",
   "name": "python3"
  },
  "language_info": {
   "codemirror_mode": {
    "name": "ipython",
    "version": 3
   },
   "file_extension": ".py",
   "mimetype": "text/x-python",
   "name": "python",
   "nbconvert_exporter": "python",
   "pygments_lexer": "ipython3",
   "version": "3.8.8"
  }
 },
 "nbformat": 4,
 "nbformat_minor": 5
}
