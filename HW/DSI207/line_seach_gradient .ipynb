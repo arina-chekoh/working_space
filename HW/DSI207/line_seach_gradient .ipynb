{
 "cells": [
  {
   "cell_type": "code",
   "execution_count": 67,
   "id": "3457fd4f",
   "metadata": {},
   "outputs": [],
   "source": [
    "import numpy as np"
   ]
  },
  {
   "cell_type": "code",
   "execution_count": 70,
   "id": "db316baf",
   "metadata": {},
   "outputs": [
    {
     "data": {
      "text/plain": [
       "array([-5, -4, -3, -2, -1,  0,  1,  2,  3,  4])"
      ]
     },
     "execution_count": 70,
     "metadata": {},
     "output_type": "execute_result"
    }
   ],
   "source": [
    "values = np.arange(-5,5,1)\n",
    "values"
   ]
  },
  {
   "cell_type": "markdown",
   "id": "92972ee9",
   "metadata": {},
   "source": [
    "# Example 1"
   ]
  },
  {
   "cell_type": "code",
   "execution_count": 91,
   "id": "a269b024",
   "metadata": {},
   "outputs": [],
   "source": [
    "## objective function = ฟังก์ชั่นที่เราต้องการหาค่าสูงสุด/ต่ำสุด \n",
    "def f(x):\n",
    "    return x**2 - x*y + y**2\n",
    "\n",
    "## slope\n",
    "def df(x):\n",
    "    return 2*x+2*y-1\n"
   ]
  },
  {
   "cell_type": "code",
   "execution_count": 92,
   "id": "05aac2c6",
   "metadata": {},
   "outputs": [
    {
     "data": {
      "text/plain": [
       "(4.0, 3.0)"
      ]
     },
     "execution_count": 92,
     "metadata": {},
     "output_type": "execute_result"
    }
   ],
   "source": [
    "f(2), df(2)"
   ]
  },
  {
   "cell_type": "code",
   "execution_count": 93,
   "id": "7c02d96a",
   "metadata": {},
   "outputs": [],
   "source": [
    "## initial values\n",
    "x = 2\n",
    "s = 2\n",
    "eps = 0.01 #เงื่อนไขการหยุด\n",
    "count = 0"
   ]
  },
  {
   "cell_type": "code",
   "execution_count": 94,
   "id": "baa3dc4f",
   "metadata": {},
   "outputs": [
    {
     "name": "stdout",
     "output_type": "stream",
     "text": [
      "1 --> -4.0 --> -9.0\n",
      "2 --> 14.0 --> 27.0\n"
     ]
    }
   ],
   "source": [
    "#1.direction\n",
    "#2.step size \n",
    "#3.calculate the new point \n",
    "\n",
    "while (np.absolute(df(x)) > eps) & (count < 2):\n",
    "    d = -1*df(x) # -slope\n",
    "    s = s # fix s=0.1\n",
    "    x = x + s*d #xใหม่ = xเก่า + s*d\n",
    "    count = count+1\n",
    "    print(count,'-->',x,'-->', df(x))\n",
    "    "
   ]
  },
  {
   "cell_type": "markdown",
   "id": "b11518bd",
   "metadata": {},
   "source": [
    "# Ex 2"
   ]
  },
  {
   "cell_type": "code",
   "execution_count": 50,
   "id": "afdc3561",
   "metadata": {},
   "outputs": [],
   "source": [
    "## objective function = ฟังก์ชั่นที่เราต้องการหาค่าสูงสุด/ต่ำสุด \n",
    "\n",
    "def f(x,y):\n",
    "    return (x**2 + y**2)\n",
    "\n",
    "## gradient\n",
    "def gf(x,y):\n",
    "    return (2*x, 2*y)  \n",
    "\n",
    "## norm of vector ขนาดเวกเตอร์ \n",
    "def norm(x,y):\n",
    "    return np.sqrt(x**2 + y**2)\n"
   ]
  },
  {
   "cell_type": "code",
   "execution_count": 51,
   "id": "572fc1e8",
   "metadata": {},
   "outputs": [
    {
     "data": {
      "text/plain": [
       "52"
      ]
     },
     "execution_count": 51,
     "metadata": {},
     "output_type": "execute_result"
    }
   ],
   "source": [
    "f(6,4)"
   ]
  },
  {
   "cell_type": "code",
   "execution_count": 52,
   "id": "2237ab35",
   "metadata": {},
   "outputs": [
    {
     "data": {
      "text/plain": [
       "(12, 8)"
      ]
     },
     "execution_count": 52,
     "metadata": {},
     "output_type": "execute_result"
    }
   ],
   "source": [
    "gf(6,4)"
   ]
  },
  {
   "cell_type": "code",
   "execution_count": 64,
   "id": "3bf3f7c2",
   "metadata": {},
   "outputs": [],
   "source": [
    "## initial values\n",
    "x = 6\n",
    "y = 4\n",
    "s = 0.5\n",
    "eps = 0.0001 #เงื่อนไขการหยุด\n",
    "count = 0"
   ]
  },
  {
   "cell_type": "code",
   "execution_count": 65,
   "id": "70364a9b",
   "metadata": {},
   "outputs": [
    {
     "name": "stdout",
     "output_type": "stream",
     "text": [
      "1 -> 0.0 0.0 0.0\n"
     ]
    }
   ],
   "source": [
    "#1.direction\n",
    "#2.step size \n",
    "#3.calculate the new point \n",
    "\n",
    "while (norm(gf(x,y)[0], gf(x,y)[1])) > eps : \n",
    "    d = -gf(x,y)[0], -gf(x,y)[1]\n",
    "    s = s\n",
    "    x = x + s*d[0] #d ตน.ที่ 0 \n",
    "    y = y + s*d[1]\n",
    "    count = count + 1 \n",
    "    print(count, '->', x , y, norm(gf(x,y)[0], gf(x,y)[1]))\n",
    "    "
   ]
  },
  {
   "cell_type": "code",
   "execution_count": 56,
   "id": "b6989c72",
   "metadata": {},
   "outputs": [
    {
     "data": {
      "text/plain": [
       "(-12, -8)"
      ]
     },
     "execution_count": 56,
     "metadata": {},
     "output_type": "execute_result"
    }
   ],
   "source": [
    "-gf(x,y)[0], -gf(x,y)[1]"
   ]
  },
  {
   "cell_type": "code",
   "execution_count": null,
   "id": "93016605",
   "metadata": {},
   "outputs": [],
   "source": []
  }
 ],
 "metadata": {
  "kernelspec": {
   "display_name": "Python 3",
   "language": "python",
   "name": "python3"
  },
  "language_info": {
   "codemirror_mode": {
    "name": "ipython",
    "version": 3
   },
   "file_extension": ".py",
   "mimetype": "text/x-python",
   "name": "python",
   "nbconvert_exporter": "python",
   "pygments_lexer": "ipython3",
   "version": "3.8.8"
  }
 },
 "nbformat": 4,
 "nbformat_minor": 5
}
